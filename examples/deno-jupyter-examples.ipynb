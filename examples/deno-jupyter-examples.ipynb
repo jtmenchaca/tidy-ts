{
 "cells": [
  {
   "cell_type": "markdown",
   "metadata": {},
   "source": [
    "# Deno Jupyter Kernel Examples\n",
    "\n",
    "This notebook demonstrates the rich capabilities of Deno's built-in Jupyter\n",
    "kernel, including:\n",
    "\n",
    "- Rich content output with multiple MIME types\n",
    "- HTML, Markdown, and SVG rendering\n",
    "- Data visualization with libraries\n",
    "- Interactive features\n",
    "\n",
    "## Getting Started\n",
    "\n",
    "First, let's explore basic rich output using Deno's Jupyter display API."
   ]
  },
  {
   "cell_type": "code",
   "execution_count": 2,
   "metadata": {},
   "outputs": [
    {
     "data": {
      "text/html": [
       "<h1>Hello, world!</h1>"
      ],
      "text/markdown": [
       "# Hello, world!"
      ],
      "text/plain": [
       "Hello, world!"
      ]
     },
     "metadata": {},
     "output_type": "display_data"
    }
   ],
   "source": [
    "// Basic rich output with multiple MIME types\n",
    "{\n",
    "  await Deno.jupyter.display({\n",
    "    \"text/plain\": \"Hello, world!\",\n",
    "    \"text/html\": \"<h1>Hello, world!</h1>\",\n",
    "    \"text/markdown\": \"# Hello, world!\",\n",
    "  }, { raw: true });\n",
    "}"
   ]
  },
  {
   "cell_type": "markdown",
   "metadata": {},
   "source": [
    "## Colorful Terminal Output\n",
    "\n",
    "Let's use the `@std/fmt/colors` library to create colorful terminal-style\n",
    "output:"
   ]
  },
  {
   "cell_type": "code",
   "execution_count": 3,
   "metadata": {},
   "outputs": [
    {
     "data": {
      "text/plain": [
       "\u001b[1m\u001b[32m✓ Success: \u001b[39m\u001b[22mOperation completed\n",
       "\u001b[1m\u001b[33m⚠ Warning: \u001b[39m\u001b[22mCheck your configuration\n",
       "\u001b[1m\u001b[31m✗ Error: \u001b[39m\u001b[22mSomething went wrong\n",
       "\u001b[1m\u001b[34mℹ Info: \u001b[39m\u001b[22mDeno version 2.4.2"
      ]
     },
     "metadata": {},
     "output_type": "display_data"
    }
   ],
   "source": [
    "import { blue, bold, green, red, yellow } from \"jsr:@std/fmt/colors\";\n",
    "\n",
    "{\n",
    "  await Deno.jupyter.display({\n",
    "    \"text/plain\": [\n",
    "      bold(green(\"✓ Success: \")),\n",
    "      \"Operation completed\\n\",\n",
    "      bold(yellow(\"⚠ Warning: \")),\n",
    "      \"Check your configuration\\n\",\n",
    "      bold(red(\"✗ Error: \")),\n",
    "      \"Something went wrong\\n\",\n",
    "      bold(blue(\"ℹ Info: \")),\n",
    "      \"Deno version \" + Deno.version.deno,\n",
    "    ].join(\"\"),\n",
    "  }, { raw: true });\n",
    "}"
   ]
  },
  {
   "cell_type": "markdown",
   "metadata": {},
   "source": [
    "## HTML Rendering\n",
    "\n",
    "Deno provides a convenient tagged template for HTML content:"
   ]
  },
  {
   "cell_type": "code",
   "execution_count": 4,
   "metadata": {},
   "outputs": [
    {
     "data": {
      "text/html": [
       "\n",
       "<div style=\"font-family: system-ui, -apple-system, sans-serif; padding: 20px; background: linear-gradient(135deg, #667eea 0%, #764ba2 100%); border-radius: 10px; color: white;\">\n",
       "  <h1>🦕 Welcome to Deno Jupyter</h1>\n",
       "  <p>Interactive TypeScript notebooks with rich multimedia support</p>\n",
       "  <ul>\n",
       "    <li>✅ TypeScript out of the box</li>\n",
       "    <li>✅ Web APIs available</li>\n",
       "    <li>✅ NPM and JSR packages</li>\n",
       "    <li>✅ Rich content output</li>\n",
       "  </ul>\n",
       "  <button style=\"background: white; color: #667eea; border: none; padding: 10px 20px; border-radius: 5px; font-weight: bold; cursor: pointer;\"\n",
       "          onclick=\"alert('Hello from Deno!')\">\n",
       "    Click Me!\n",
       "  </button>\n",
       "</div>\n"
      ]
     },
     "execution_count": 4,
     "metadata": {},
     "output_type": "execute_result"
    }
   ],
   "source": [
    "Deno.jupyter.html`\n",
    "<div style=\"font-family: system-ui, -apple-system, sans-serif; padding: 20px; background: linear-gradient(135deg, #667eea 0%, #764ba2 100%); border-radius: 10px; color: white;\">\n",
    "  <h1>🦕 Welcome to Deno Jupyter</h1>\n",
    "  <p>Interactive TypeScript notebooks with rich multimedia support</p>\n",
    "  <ul>\n",
    "    <li>✅ TypeScript out of the box</li>\n",
    "    <li>✅ Web APIs available</li>\n",
    "    <li>✅ NPM and JSR packages</li>\n",
    "    <li>✅ Rich content output</li>\n",
    "  </ul>\n",
    "  <button style=\"background: white; color: #667eea; border: none; padding: 10px 20px; border-radius: 5px; font-weight: bold; cursor: pointer;\"\n",
    "          onclick=\"alert('Hello from Deno!')\">\n",
    "    Click Me!\n",
    "  </button>\n",
    "</div>\n",
    "`;"
   ]
  },
  {
   "cell_type": "markdown",
   "metadata": {},
   "source": [
    "## Markdown Rendering\n",
    "\n",
    "Create rich markdown documentation directly in your notebook:"
   ]
  },
  {
   "cell_type": "code",
   "execution_count": 11,
   "metadata": {},
   "outputs": [
    {
     "data": {
      "text/markdown": [
       "\n",
       "# 📊 Data Analysis with Deno\n",
       "\n",
       "## Features\n",
       "\n",
       "| Feature | Status | Description |\n",
       "|---------|--------|-------------|\n",
       "| TypeScript | ✅ | Native TypeScript support |\n",
       "| Web APIs | ✅ | Fetch, WebSocket, etc. |\n",
       "| File System | ✅ | Read/write files |\n",
       "| NPM Support | ✅ | Use any NPM package |\n",
       "\n",
       "## Code Example\n",
       "\n",
       "```typescript\n",
       "const response = await fetch(\"https://api.github.com/repos/denoland/deno\");\n",
       "const data = await response.json();\n",
       "console.log(data.stargazers_count);\n",
       "```\n",
       "\n",
       "## Mathematical Notation\n",
       "\n",
       "The quadratic formula: $x = \\frac{-b \\pm \\sqrt{b^2 - 4ac}}{2a}$\n",
       "\n",
       "![Deno Logo](https://github.com/denoland.png?size=64)\n"
      ]
     },
     "execution_count": 11,
     "metadata": {},
     "output_type": "execute_result"
    }
   ],
   "source": [
    "Deno.jupyter.md`\n",
    "# 📊 Data Analysis with Deno\n",
    "\n",
    "## Features\n",
    "\n",
    "| Feature | Status | Description |\n",
    "|---------|--------|-------------|\n",
    "| TypeScript | ✅ | Native TypeScript support |\n",
    "| Web APIs | ✅ | Fetch, WebSocket, etc. |\n",
    "| File System | ✅ | Read/write files |\n",
    "| NPM Support | ✅ | Use any NPM package |\n",
    "\n",
    "## Code Example\n",
    "\n",
    "\\`\\`\\`typescript\n",
    "const response = await fetch(\"https://api.github.com/repos/denoland/deno\");\n",
    "const data = await response.json();\n",
    "console.log(data.stargazers_count);\n",
    "\\`\\`\\`\n",
    "\n",
    "## Mathematical Notation\n",
    "\n",
    "The quadratic formula: $x = \\\\frac{-b \\\\pm \\\\sqrt{b^2 - 4ac}}{2a}$\n",
    "\n",
    "![Deno Logo](https://github.com/denoland.png?size=64)\n",
    "`;"
   ]
  },
  {
   "cell_type": "markdown",
   "metadata": {},
   "source": [
    "## SVG Graphics\n",
    "\n",
    "Create vector graphics dynamically:"
   ]
  },
  {
   "cell_type": "code",
   "execution_count": 12,
   "metadata": {},
   "outputs": [
    {
     "data": {
      "image/svg+xml": [
       "\n",
       "<svg width=\"400\" height=\"200\" xmlns=\"http://www.w3.org/2000/svg\">\n",
       "  <defs>\n",
       "    <linearGradient id=\"grad1\" x1=\"0%\" y1=\"0%\" x2=\"100%\" y2=\"0%\">\n",
       "      <stop offset=\"0%\" style=\"stop-color:#ff6b6b;stop-opacity:1\" />\n",
       "      <stop offset=\"50%\" style=\"stop-color:#4ecdc4;stop-opacity:1\" />\n",
       "      <stop offset=\"100%\" style=\"stop-color:#45b7d1;stop-opacity:1\" />\n",
       "    </linearGradient>\n",
       "  </defs>\n",
       "  \n",
       "  <!-- Background -->\n",
       "  <rect width=\"400\" height=\"200\" fill=\"#f0f0f0\" />\n",
       "  \n",
       "  <!-- Animated circles -->\n",
       "  <circle cx=\"100\" cy=\"100\" r=\"30\" fill=\"url(#grad1)\">\n",
       "    <animate attributeName=\"r\" from=\"30\" to=\"40\" dur=\"1s\" repeatCount=\"indefinite\" />\n",
       "    <animate attributeName=\"opacity\" from=\"1\" to=\"0.5\" dur=\"1s\" repeatCount=\"indefinite\" />\n",
       "  </circle>\n",
       "  \n",
       "  <circle cx=\"200\" cy=\"100\" r=\"30\" fill=\"url(#grad1)\">\n",
       "    <animate attributeName=\"r\" from=\"30\" to=\"40\" dur=\"1s\" begin=\"0.33s\" repeatCount=\"indefinite\" />\n",
       "    <animate attributeName=\"opacity\" from=\"1\" to=\"0.5\" dur=\"1s\" begin=\"0.33s\" repeatCount=\"indefinite\" />\n",
       "  </circle>\n",
       "  \n",
       "  <circle cx=\"300\" cy=\"100\" r=\"30\" fill=\"url(#grad1)\">\n",
       "    <animate attributeName=\"r\" from=\"30\" to=\"40\" dur=\"1s\" begin=\"0.66s\" repeatCount=\"indefinite\" />\n",
       "    <animate attributeName=\"opacity\" from=\"1\" to=\"0.5\" dur=\"1s\" begin=\"0.66s\" repeatCount=\"indefinite\" />\n",
       "  </circle>\n",
       "  \n",
       "  <text x=\"200\" y=\"170\" font-family=\"Arial\" font-size=\"16\" text-anchor=\"middle\" fill=\"#333\">\n",
       "    Loading Animation\n",
       "  </text>\n",
       "</svg>\n"
      ]
     },
     "execution_count": 12,
     "metadata": {},
     "output_type": "execute_result"
    }
   ],
   "source": [
    "// Animated SVG visualization\n",
    "Deno.jupyter.svg`\n",
    "<svg width=\"400\" height=\"200\" xmlns=\"http://www.w3.org/2000/svg\">\n",
    "  <defs>\n",
    "    <linearGradient id=\"grad1\" x1=\"0%\" y1=\"0%\" x2=\"100%\" y2=\"0%\">\n",
    "      <stop offset=\"0%\" style=\"stop-color:#ff6b6b;stop-opacity:1\" />\n",
    "      <stop offset=\"50%\" style=\"stop-color:#4ecdc4;stop-opacity:1\" />\n",
    "      <stop offset=\"100%\" style=\"stop-color:#45b7d1;stop-opacity:1\" />\n",
    "    </linearGradient>\n",
    "  </defs>\n",
    "  \n",
    "  <!-- Background -->\n",
    "  <rect width=\"400\" height=\"200\" fill=\"#f0f0f0\" />\n",
    "  \n",
    "  <!-- Animated circles -->\n",
    "  <circle cx=\"100\" cy=\"100\" r=\"30\" fill=\"url(#grad1)\">\n",
    "    <animate attributeName=\"r\" from=\"30\" to=\"40\" dur=\"1s\" repeatCount=\"indefinite\" />\n",
    "    <animate attributeName=\"opacity\" from=\"1\" to=\"0.5\" dur=\"1s\" repeatCount=\"indefinite\" />\n",
    "  </circle>\n",
    "  \n",
    "  <circle cx=\"200\" cy=\"100\" r=\"30\" fill=\"url(#grad1)\">\n",
    "    <animate attributeName=\"r\" from=\"30\" to=\"40\" dur=\"1s\" begin=\"0.33s\" repeatCount=\"indefinite\" />\n",
    "    <animate attributeName=\"opacity\" from=\"1\" to=\"0.5\" dur=\"1s\" begin=\"0.33s\" repeatCount=\"indefinite\" />\n",
    "  </circle>\n",
    "  \n",
    "  <circle cx=\"300\" cy=\"100\" r=\"30\" fill=\"url(#grad1)\">\n",
    "    <animate attributeName=\"r\" from=\"30\" to=\"40\" dur=\"1s\" begin=\"0.66s\" repeatCount=\"indefinite\" />\n",
    "    <animate attributeName=\"opacity\" from=\"1\" to=\"0.5\" dur=\"1s\" begin=\"0.66s\" repeatCount=\"indefinite\" />\n",
    "  </circle>\n",
    "  \n",
    "  <text x=\"200\" y=\"170\" font-family=\"Arial\" font-size=\"16\" text-anchor=\"middle\" fill=\"#333\">\n",
    "    Loading Animation\n",
    "  </text>\n",
    "</svg>\n",
    "`;"
   ]
  },
  {
   "cell_type": "markdown",
   "metadata": {},
   "source": [
    "## Interactive Features\n",
    "\n",
    "### User Input with Prompt and Confirm"
   ]
  },
  {
   "cell_type": "code",
   "execution_count": 7,
   "metadata": {},
   "outputs": [
    {
     "data": {
      "text/html": [
       "\n",
       "<div style=\"padding: 20px; background: #f3f4f6; border-radius: 8px; border-left: 4px solid #3b82f6;\">\n",
       "  <h3>User Response</h3>\n",
       "  <p><strong>Name:</strong> yes</p>\n",
       "  <p><strong>Likes Deno:</strong> Yes! 🎉</p>\n",
       "</div>\n"
      ]
     },
     "execution_count": 7,
     "metadata": {},
     "output_type": "execute_result"
    }
   ],
   "source": [
    "// Interactive user input example\n",
    "const name_interactive = prompt(\"What's your name?\") || \"Anonymous\";\n",
    "const likes = confirm(`Hello ${name}! Do you like Deno?`);\n",
    "\n",
    "Deno.jupyter.html`\n",
    "<div style=\"padding: 20px; background: #f3f4f6; border-radius: 8px; border-left: 4px solid #3b82f6;\">\n",
    "  <h3>User Response</h3>\n",
    "  <p><strong>Name:</strong> ${name_interactive}</p>\n",
    "  <p><strong>Likes Deno:</strong> ${likes ? \"Yes! 🎉\" : \"Not yet... 🤔\"}</p>\n",
    "</div>\n",
    "`;"
   ]
  },
  {
   "cell_type": "markdown",
   "metadata": {},
   "source": [
    "## Live Updates with IO Pub Broadcasting\n",
    "\n",
    "Show progress updates while processing:"
   ]
  },
  {
   "cell_type": "code",
   "execution_count": 13,
   "metadata": {},
   "outputs": [
    {
     "data": {
      "text/html": [
       "\n",
       "        <div style=\"padding: 10px; background: #f9fafb; border-radius: 8px;\">\n",
       "          <div style=\"margin-bottom: 5px; font-weight: bold;\">Initializing...</div>\n",
       "          <div style=\"background: #e5e7eb; border-radius: 4px; overflow: hidden;\">\n",
       "            <div style=\"background: #3b82f6; height: 20px; width: 20%; transition: width 0.3s;\"></div>\n",
       "          </div>\n",
       "          <div style=\"margin-top: 5px; color: #6b7280;\">20%</div>\n",
       "        </div>\n",
       "      "
      ]
     },
     "metadata": {},
     "output_type": "display_data"
    },
    {
     "data": {
      "text/html": [
       "\n",
       "        <div style=\"padding: 10px; background: #f9fafb; border-radius: 8px;\">\n",
       "          <div style=\"margin-bottom: 5px; font-weight: bold;\">Loading data...</div>\n",
       "          <div style=\"background: #e5e7eb; border-radius: 4px; overflow: hidden;\">\n",
       "            <div style=\"background: #3b82f6; height: 20px; width: 40%; transition: width 0.3s;\"></div>\n",
       "          </div>\n",
       "          <div style=\"margin-top: 5px; color: #6b7280;\">40%</div>\n",
       "        </div>\n",
       "      "
      ]
     },
     "metadata": {},
     "output_type": "display_data"
    },
    {
     "data": {
      "text/html": [
       "\n",
       "        <div style=\"padding: 10px; background: #f9fafb; border-radius: 8px;\">\n",
       "          <div style=\"margin-bottom: 5px; font-weight: bold;\">Processing...</div>\n",
       "          <div style=\"background: #e5e7eb; border-radius: 4px; overflow: hidden;\">\n",
       "            <div style=\"background: #3b82f6; height: 20px; width: 60%; transition: width 0.3s;\"></div>\n",
       "          </div>\n",
       "          <div style=\"margin-top: 5px; color: #6b7280;\">60%</div>\n",
       "        </div>\n",
       "      "
      ]
     },
     "metadata": {},
     "output_type": "display_data"
    },
    {
     "data": {
      "text/html": [
       "\n",
       "        <div style=\"padding: 10px; background: #f9fafb; border-radius: 8px;\">\n",
       "          <div style=\"margin-bottom: 5px; font-weight: bold;\">Analyzing results...</div>\n",
       "          <div style=\"background: #e5e7eb; border-radius: 4px; overflow: hidden;\">\n",
       "            <div style=\"background: #3b82f6; height: 20px; width: 80%; transition: width 0.3s;\"></div>\n",
       "          </div>\n",
       "          <div style=\"margin-top: 5px; color: #6b7280;\">80%</div>\n",
       "        </div>\n",
       "      "
      ]
     },
     "metadata": {},
     "output_type": "display_data"
    },
    {
     "data": {
      "text/html": [
       "\n",
       "        <div style=\"padding: 10px; background: #f9fafb; border-radius: 8px;\">\n",
       "          <div style=\"margin-bottom: 5px; font-weight: bold;\">Complete!</div>\n",
       "          <div style=\"background: #e5e7eb; border-radius: 4px; overflow: hidden;\">\n",
       "            <div style=\"background: #3b82f6; height: 20px; width: 100%; transition: width 0.3s;\"></div>\n",
       "          </div>\n",
       "          <div style=\"margin-top: 5px; color: #6b7280;\">100%</div>\n",
       "        </div>\n",
       "      "
      ]
     },
     "metadata": {},
     "output_type": "display_data"
    },
    {
     "data": {
      "text/plain": [
       "\u001b[32m\"Processing complete!\"\u001b[39m"
      ]
     },
     "execution_count": 13,
     "metadata": {},
     "output_type": "execute_result"
    }
   ],
   "source": [
    "// Progress bar simulation\n",
    "const steps = [\n",
    "  \"Initializing...\",\n",
    "  \"Loading data...\",\n",
    "  \"Processing...\",\n",
    "  \"Analyzing results...\",\n",
    "  \"Complete!\",\n",
    "];\n",
    "\n",
    "for (let i = 0; i < steps.length; i++) {\n",
    "  const progress = ((i + 1) / steps.length) * 100;\n",
    "\n",
    "  await Deno.jupyter.broadcast(\"display_data\", {\n",
    "    data: {\n",
    "      \"text/html\": `\n",
    "        <div style=\"padding: 10px; background: #f9fafb; border-radius: 8px;\">\n",
    "          <div style=\"margin-bottom: 5px; font-weight: bold;\">${steps[i]}</div>\n",
    "          <div style=\"background: #e5e7eb; border-radius: 4px; overflow: hidden;\">\n",
    "            <div style=\"background: #3b82f6; height: 20px; width: ${progress}%; transition: width 0.3s;\"></div>\n",
    "          </div>\n",
    "          <div style=\"margin-top: 5px; color: #6b7280;\">${\n",
    "        progress.toFixed(0)\n",
    "      }%</div>\n",
    "        </div>\n",
    "      `,\n",
    "    },\n",
    "    metadata: {},\n",
    "    transient: { display_id: \"progress_bar\" },\n",
    "  });\n",
    "\n",
    "  await new Promise((resolve) => setTimeout(resolve, 800));\n",
    "}\n",
    "\n",
    "\"Processing complete!\";"
   ]
  },
  {
   "cell_type": "markdown",
   "metadata": {},
   "source": [
    "## Data Visualization Example\n",
    "\n",
    "Here's how you might create a simple chart using canvas (for demonstration):"
   ]
  },
  {
   "cell_type": "code",
   "execution_count": 14,
   "metadata": {},
   "outputs": [
    {
     "data": {
      "text/html": [
       "\n",
       "<div style=\"font-family: system-ui; padding: 20px; background: white; border-radius: 8px; box-shadow: 0 2px 4px rgba(0,0,0,0.1);\">\n",
       "  <h3 style=\"margin-bottom: 20px;\">Programming Language Proficiency</h3>\n",
       "  <div style=\"display: flex; flex-direction: column; gap: 15px;\">\n",
       "    \n",
       "      <div style=\"display: flex; align-items: center; gap: 10px;\">\n",
       "        <div style=\"width: 100px; text-align: right; font-weight: 500;\">JavaScript</div>\n",
       "        <div style=\"flex: 1; background: #f3f4f6; border-radius: 4px; overflow: hidden; height: 30px; position: relative;\">\n",
       "          <div style=\"background: #f7df1e; height: 100%; width: 89.47368421052632%; transition: width 0.5s; display: flex; align-items: center; justify-content: flex-end; padding-right: 10px;\">\n",
       "            <span style=\"color: white; font-weight: bold; text-shadow: 1px 1px 2px rgba(0,0,0,0.3);\">85%</span>\n",
       "          </div>\n",
       "        </div>\n",
       "      </div>\n",
       "    \n",
       "      <div style=\"display: flex; align-items: center; gap: 10px;\">\n",
       "        <div style=\"width: 100px; text-align: right; font-weight: 500;\">TypeScript</div>\n",
       "        <div style=\"flex: 1; background: #f3f4f6; border-radius: 4px; overflow: hidden; height: 30px; position: relative;\">\n",
       "          <div style=\"background: #3178c6; height: 100%; width: 100%; transition: width 0.5s; display: flex; align-items: center; justify-content: flex-end; padding-right: 10px;\">\n",
       "            <span style=\"color: white; font-weight: bold; text-shadow: 1px 1px 2px rgba(0,0,0,0.3);\">95%</span>\n",
       "          </div>\n",
       "        </div>\n",
       "      </div>\n",
       "    \n",
       "      <div style=\"display: flex; align-items: center; gap: 10px;\">\n",
       "        <div style=\"width: 100px; text-align: right; font-weight: 500;\">Python</div>\n",
       "        <div style=\"flex: 1; background: #f3f4f6; border-radius: 4px; overflow: hidden; height: 30px; position: relative;\">\n",
       "          <div style=\"background: #3776ab; height: 100%; width: 73.68421052631578%; transition: width 0.5s; display: flex; align-items: center; justify-content: flex-end; padding-right: 10px;\">\n",
       "            <span style=\"color: white; font-weight: bold; text-shadow: 1px 1px 2px rgba(0,0,0,0.3);\">70%</span>\n",
       "          </div>\n",
       "        </div>\n",
       "      </div>\n",
       "    \n",
       "      <div style=\"display: flex; align-items: center; gap: 10px;\">\n",
       "        <div style=\"width: 100px; text-align: right; font-weight: 500;\">Rust</div>\n",
       "        <div style=\"flex: 1; background: #f3f4f6; border-radius: 4px; overflow: hidden; height: 30px; position: relative;\">\n",
       "          <div style=\"background: #ce4e21; height: 100%; width: 63.1578947368421%; transition: width 0.5s; display: flex; align-items: center; justify-content: flex-end; padding-right: 10px;\">\n",
       "            <span style=\"color: white; font-weight: bold; text-shadow: 1px 1px 2px rgba(0,0,0,0.3);\">60%</span>\n",
       "          </div>\n",
       "        </div>\n",
       "      </div>\n",
       "    \n",
       "      <div style=\"display: flex; align-items: center; gap: 10px;\">\n",
       "        <div style=\"width: 100px; text-align: right; font-weight: 500;\">Go</div>\n",
       "        <div style=\"flex: 1; background: #f3f4f6; border-radius: 4px; overflow: hidden; height: 30px; position: relative;\">\n",
       "          <div style=\"background: #00add8; height: 100%; width: 52.63157894736842%; transition: width 0.5s; display: flex; align-items: center; justify-content: flex-end; padding-right: 10px;\">\n",
       "            <span style=\"color: white; font-weight: bold; text-shadow: 1px 1px 2px rgba(0,0,0,0.3);\">50%</span>\n",
       "          </div>\n",
       "        </div>\n",
       "      </div>\n",
       "    \n",
       "  </div>\n",
       "</div>\n"
      ]
     },
     "execution_count": 14,
     "metadata": {},
     "output_type": "execute_result"
    }
   ],
   "source": [
    "// Simple bar chart using HTML/CSS\n",
    "const data = [\n",
    "  { label: \"JavaScript\", value: 85, color: \"#f7df1e\" },\n",
    "  { label: \"TypeScript\", value: 95, color: \"#3178c6\" },\n",
    "  { label: \"Python\", value: 70, color: \"#3776ab\" },\n",
    "  { label: \"Rust\", value: 60, color: \"#ce4e21\" },\n",
    "  { label: \"Go\", value: 50, color: \"#00add8\" },\n",
    "];\n",
    "\n",
    "const maxValue = Math.max(...data.map((d) => d.value));\n",
    "\n",
    "Deno.jupyter.html`\n",
    "<div style=\"font-family: system-ui; padding: 20px; background: white; border-radius: 8px; box-shadow: 0 2px 4px rgba(0,0,0,0.1);\">\n",
    "  <h3 style=\"margin-bottom: 20px;\">Programming Language Proficiency</h3>\n",
    "  <div style=\"display: flex; flex-direction: column; gap: 15px;\">\n",
    "    ${\n",
    "  data.map((item) => `\n",
    "      <div style=\"display: flex; align-items: center; gap: 10px;\">\n",
    "        <div style=\"width: 100px; text-align: right; font-weight: 500;\">${item.label}</div>\n",
    "        <div style=\"flex: 1; background: #f3f4f6; border-radius: 4px; overflow: hidden; height: 30px; position: relative;\">\n",
    "          <div style=\"background: ${item.color}; height: 100%; width: ${\n",
    "    (item.value / maxValue) * 100\n",
    "  }%; transition: width 0.5s; display: flex; align-items: center; justify-content: flex-end; padding-right: 10px;\">\n",
    "            <span style=\"color: white; font-weight: bold; text-shadow: 1px 1px 2px rgba(0,0,0,0.3);\">${item.value}%</span>\n",
    "          </div>\n",
    "        </div>\n",
    "      </div>\n",
    "    `).join(\"\")\n",
    "}\n",
    "  </div>\n",
    "</div>\n",
    "`;"
   ]
  },
  {
   "cell_type": "markdown",
   "metadata": {},
   "source": [
    "## Working with APIs\n",
    "\n",
    "Fetch data from external APIs and display it:"
   ]
  },
  {
   "cell_type": "code",
   "execution_count": 15,
   "metadata": {},
   "outputs": [
    {
     "ename": "TypeError",
     "evalue": "error sending request for url (https://api.github.com/repos/denoland/deno): client error (Connect): dns error: failed to lookup address information: nodename nor servname provided, or not known: failed to lookup address information: nodename nor servname provided, or not known",
     "output_type": "error",
     "traceback": [
      "Stack trace:",
      "TypeError: error sending request for url (https://api.github.com/repos/denoland/deno): client error (Connect): dns error: failed to lookup address information: nodename nor servname provided, or not known: failed to lookup address information: nodename nor servname provided, or not known",
      "    at async mainFetch (ext:deno_fetch/26_fetch.js:192:12)",
      "    at async fetch (ext:deno_fetch/26_fetch.js:475:11)",
      "    at async <anonymous>:2:18"
     ]
    }
   ],
   "source": [
    "// Fetch GitHub repository information\n",
    "const response = await fetch(\"https://api.github.com/repos/denoland/deno\");\n",
    "const repo = await response.json();\n",
    "\n",
    "Deno.jupyter.html`\n",
    "<div style=\"padding: 20px; background: linear-gradient(135deg, #0d1117 0%, #161b22 100%); color: white; border-radius: 12px; font-family: -apple-system, BlinkMacSystemFont, 'Segoe UI', Helvetica, Arial, sans-serif;\">\n",
    "  <div style=\"display: flex; align-items: center; gap: 15px; margin-bottom: 20px;\">\n",
    "    <img src=\"${repo.owner.avatar_url}\" alt=\"Deno\" style=\"width: 60px; height: 60px; border-radius: 50%; border: 3px solid #30363d;\" />\n",
    "    <div>\n",
    "      <h2 style=\"margin: 0; color: #58a6ff;\">${repo.full_name}</h2>\n",
    "      <p style=\"margin: 5px 0; color: #8b949e;\">${repo.description}</p>\n",
    "    </div>\n",
    "  </div>\n",
    "  \n",
    "  <div style=\"display: grid; grid-template-columns: repeat(auto-fit, minmax(150px, 1fr)); gap: 15px;\">\n",
    "    <div style=\"background: #0d1117; padding: 15px; border-radius: 8px; border: 1px solid #30363d;\">\n",
    "      <div style=\"color: #8b949e; font-size: 12px; text-transform: uppercase; margin-bottom: 5px;\">Stars</div>\n",
    "      <div style=\"font-size: 24px; font-weight: bold;\">⭐ ${repo.stargazers_count.toLocaleString()}</div>\n",
    "    </div>\n",
    "    <div style=\"background: #0d1117; padding: 15px; border-radius: 8px; border: 1px solid #30363d;\">\n",
    "      <div style=\"color: #8b949e; font-size: 12px; text-transform: uppercase; margin-bottom: 5px;\">Forks</div>\n",
    "      <div style=\"font-size: 24px; font-weight: bold;\">🍴 ${repo.forks_count.toLocaleString()}</div>\n",
    "    </div>\n",
    "    <div style=\"background: #0d1117; padding: 15px; border-radius: 8px; border: 1px solid #30363d;\">\n",
    "      <div style=\"color: #8b949e; font-size: 12px; text-transform: uppercase; margin-bottom: 5px;\">Issues</div>\n",
    "      <div style=\"font-size: 24px; font-weight: bold;\">📝 ${repo.open_issues_count.toLocaleString()}</div>\n",
    "    </div>\n",
    "    <div style=\"background: #0d1117; padding: 15px; border-radius: 8px; border: 1px solid #30363d;\">\n",
    "      <div style=\"color: #8b949e; font-size: 12px; text-transform: uppercase; margin-bottom: 5px;\">Language</div>\n",
    "      <div style=\"font-size: 24px; font-weight: bold;\">💻 ${repo.language}</div>\n",
    "    </div>\n",
    "  </div>\n",
    "  \n",
    "  <div style=\"margin-top: 20px; padding-top: 20px; border-top: 1px solid #30363d;\">\n",
    "    <a href=\"${repo.html_url}\" style=\"color: #58a6ff; text-decoration: none; font-weight: 500;\">View on GitHub →</a>\n",
    "  </div>\n",
    "</div>\n",
    "`;"
   ]
  },
  {
   "cell_type": "markdown",
   "metadata": {},
   "source": [
    "## System Information\n",
    "\n",
    "Display Deno and system information:"
   ]
  },
  {
   "cell_type": "code",
   "execution_count": 16,
   "metadata": {},
   "outputs": [
    {
     "data": {
      "text/html": [
       "\n",
       "<div style=\"font-family: 'SF Mono', Monaco, 'Cascadia Code', monospace; background: #1e1e1e; color: #d4d4d4; padding: 20px; border-radius: 8px;\">\n",
       "  <div style=\"color: #569cd6; margin-bottom: 15px; font-weight: bold;\">// System Information</div>\n",
       "  \n",
       "    <div style=\"margin-left: 20px; margin-bottom: 5px;\">\n",
       "      <span style=\"color: #9cdcfe;\">deno</span>: \n",
       "      <span style=\"color: #ce9178;\">\"2.4.2\"</span>\n",
       "    </div>\n",
       "  \n",
       "    <div style=\"margin-left: 20px; margin-bottom: 5px;\">\n",
       "      <span style=\"color: #9cdcfe;\">v8</span>: \n",
       "      <span style=\"color: #ce9178;\">\"13.7.152.14-rusty\"</span>\n",
       "    </div>\n",
       "  \n",
       "    <div style=\"margin-left: 20px; margin-bottom: 5px;\">\n",
       "      <span style=\"color: #9cdcfe;\">typescript</span>: \n",
       "      <span style=\"color: #ce9178;\">\"5.8.3\"</span>\n",
       "    </div>\n",
       "  \n",
       "    <div style=\"margin-left: 20px; margin-bottom: 5px;\">\n",
       "      <span style=\"color: #9cdcfe;\">os</span>: \n",
       "      <span style=\"color: #ce9178;\">\"darwin\"</span>\n",
       "    </div>\n",
       "  \n",
       "    <div style=\"margin-left: 20px; margin-bottom: 5px;\">\n",
       "      <span style=\"color: #9cdcfe;\">arch</span>: \n",
       "      <span style=\"color: #ce9178;\">\"aarch64\"</span>\n",
       "    </div>\n",
       "  \n",
       "</div>\n"
      ]
     },
     "execution_count": 16,
     "metadata": {},
     "output_type": "execute_result"
    }
   ],
   "source": [
    "// System and Deno information\n",
    "const info = {\n",
    "  deno: Deno.version.deno,\n",
    "  v8: Deno.version.v8,\n",
    "  typescript: Deno.version.typescript,\n",
    "  os: Deno.build.os,\n",
    "  arch: Deno.build.arch,\n",
    "};\n",
    "\n",
    "Deno.jupyter.html`\n",
    "<div style=\"font-family: 'SF Mono', Monaco, 'Cascadia Code', monospace; background: #1e1e1e; color: #d4d4d4; padding: 20px; border-radius: 8px;\">\n",
    "  <div style=\"color: #569cd6; margin-bottom: 15px; font-weight: bold;\">// System Information</div>\n",
    "  ${\n",
    "  Object.entries(info).map(([key, value]) => `\n",
    "    <div style=\"margin-left: 20px; margin-bottom: 5px;\">\n",
    "      <span style=\"color: #9cdcfe;\">${key}</span>: \n",
    "      <span style=\"color: #ce9178;\">\"${value}\"</span>\n",
    "    </div>\n",
    "  `).join(\"\")\n",
    "}\n",
    "</div>\n",
    "`;"
   ]
  },
  {
   "cell_type": "markdown",
   "metadata": {},
   "source": [
    "## Conclusion\n",
    "\n",
    "This notebook demonstrates various capabilities of the Deno Jupyter kernel:\n",
    "\n",
    "- 🎨 **Rich Content**: Multiple MIME type outputs\n",
    "- 🌈 **Colorful Output**: Terminal colors with `@std/fmt/colors`\n",
    "- 📝 **Markdown**: Rich documentation within notebooks\n",
    "- 🎭 **HTML**: Interactive and styled content\n",
    "- 🎨 **SVG**: Vector graphics and animations\n",
    "- 💬 **User Input**: `prompt()` and `confirm()` APIs\n",
    "- 📊 **Data Visualization**: Charts and graphs\n",
    "- 🌐 **API Integration**: Fetch and display external data\n",
    "- ⚡ **Live Updates**: Broadcasting to IO pub channel\n",
    "\n",
    "The Deno Jupyter kernel provides a powerful environment for interactive\n",
    "TypeScript development, data analysis, and creating rich, educational content."
   ]
  }
 ],
 "metadata": {
  "kernelspec": {
   "display_name": "Deno",
   "language": "typescript",
   "name": "deno"
  },
  "language_info": {
   "codemirror_mode": "typescript",
   "file_extension": ".ts",
   "mimetype": "text/x.typescript",
   "name": "typescript",
   "nbconvert_exporter": "script",
   "pygments_lexer": "typescript",
   "version": "5.8.3"
  }
 },
 "nbformat": 4,
 "nbformat_minor": 4
}
