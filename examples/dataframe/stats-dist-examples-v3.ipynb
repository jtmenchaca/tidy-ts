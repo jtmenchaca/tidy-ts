{
 "cells": [
  {
   "cell_type": "markdown",
   "metadata": {},
   "source": []
  },
  {
   "cell_type": "markdown",
   "metadata": {},
   "source": [
    "# Tidy Graph Examples (Deno + TypeScript)\n",
    "\n",
    "This notebook showcases the **comprehensive graph visualization capabilities**\n",
    "of the `@tidy-ts/tidy-data` library, using the Deno TypeScript Jupyter kernel.\n",
    "\n",
    "**Features Covered**\n",
    "\n",
    "- **All chart types**: scatter, line, bar, area\n",
    "- **Advanced mappings**: color, size, shape aesthetics\n",
    "- **Configuration options**: themes, styling, interactions\n",
    "- **Real-world examples**: sales data, scientific data, time series\n",
    "- **Widget integration**: interactive visualizations\n",
    "\n",
    "**Chart Types Available**\n",
    "\n",
    "- 📊 **Scatter plots** - for correlation analysis\n",
    "- 📈 **Line charts** - for trends and time series\n",
    "- 📊 **Bar charts** - for categorical comparisons\n",
    "- 📊 **Area charts** - for cumulative data"
   ]
  },
  {
   "cell_type": "markdown",
   "metadata": {},
   "source": [
    "## Imports and Setup"
   ]
  },
  {
   "cell_type": "code",
   "execution_count": 1,
   "metadata": {},
   "outputs": [
    {
     "name": "stdout",
     "output_type": "stream",
     "text": [
      "�� Normal Distribution PDF Data:\n",
      "┌───────┬─────────────────────┬────────────────────────┬────────────────────────┐\n",
      "│ (idx) │ x                   │ probability            │ density                │\n",
      "├───────┼─────────────────────┼────────────────────────┼────────────────────────┤\n",
      "│     0 │ -4                  │ 0.00003167124183566376 │ 0.00013383022576488534 │\n",
      "│     1 │ -3.919191919191919  │ 0.00004442317421976263 │ 0.00018429530231815126 │\n",
      "│     2 │ -3.8383838383838382 │ 0.00006192338952977192 │ 0.0002521380561526585  │\n",
      "│     3 │ -3.757575757575758  │ 0.00008578371692732704 │ 0.00034270987295859193 │\n",
      "│     4 │ -3.676767676767677  │ 0.00011810398998139287 │ 0.0004627846144597001  │\n",
      "│     5 │ -3.595959595959596  │ 0.0001615989824867512  │ 0.000620862299166407   │\n",
      "│     6 │ -3.515151515151515  │ 0.00021975157973502191 │ 0.0008275147546819402  │\n",
      "│     7 │ -3.4343434343434343 │ 0.0002969955502069213  │ 0.0010957722143120606  │\n",
      "│     8 │ -3.3535353535353534 │ 0.00039893110229089103 │ 0.0014415473165370948  │\n",
      "│     9 │ -3.2727272727272725 │ 0.0005325760013299347  │ 0.001884089810153815   │\n",
      "└───────┴─────────────────────┴────────────────────────┴────────────────────────┘\n"
     ]
    }
   ],
   "source": [
    "// Normal Distribution - PDF and CDF using new .data() method\n",
    "import { createDataFrame, s } from \"@tidy-ts/dataframe\"; \n",
    "\n",
    "// Generate PDF data using the new .data() method\n",
    "const normalPDFData = s.dist.normal.data({\n",
    "  mean: 0,\n",
    "  standardDeviation: 1,\n",
    "  type: \"pdf\",\n",
    "  range: [-4, 4],\n",
    "  points: 100,\n",
    "});\n",
    "\n",
    "// Generate CDF data using the new .data() method\n",
    "const normalCDFData = s.dist.normal.data({\n",
    "  mean: 0,\n",
    "  standardDeviation: 1,\n",
    "  type: \"cdf\",\n",
    "  range: [-4, 4],\n",
    "  points: 100,\n",
    "});\n",
    "\n",
    "const normalData = normalCDFData.leftJoin(normalPDFData, \"x\");\n",
    "\n",
    "console.log(\"�� Normal Distribution PDF Data:\");\n",
    "console.table(normalData.head(10));"
   ]
  },
  {
   "cell_type": "code",
   "execution_count": 2,
   "metadata": {},
   "outputs": [
    {
     "name": "stdout",
     "output_type": "stream",
     "text": [
      "📈 Normal Distribution PDF:\n"
     ]
    },
    {
     "data": {
      "application/vnd.jupyter.widget-view+json": {
       "model_id": "df8ff3b3-b956-47bb-a875-9a647e8fa1cc",
       "version_major": 2,
       "version_minor": 1
      }
     },
     "execution_count": 2,
     "metadata": {},
     "output_type": "execute_result"
    }
   ],
   "source": [
    "// Normal Distribution PDF (Probability Density Function)\n",
    "const normalPDF = normalPDFData\n",
    "  .pivotLonger({\n",
    "    cols: [\"density\"],\n",
    "    namesTo: \"function_type\",\n",
    "    valuesTo: \"value\",\n",
    "  })\n",
    "  .graph({\n",
    "    type: \"line\",\n",
    "    mappings: {\n",
    "      x: \"x\",\n",
    "      y: \"value\",\n",
    "    },\n",
    "    config: {\n",
    "      layout: {\n",
    "        title: \"📈 Normal Distribution - Probability Density Function\",\n",
    "        description:\n",
    "          \"Standard normal distribution (μ=0, σ=1) - the classic bell curve\",\n",
    "        width: 700,\n",
    "        height: 400,\n",
    "      },\n",
    "      xAxis: {\n",
    "        label: \"Value (x)\",\n",
    "        domain: [-4, 4],\n",
    "      },\n",
    "      yAxis: {\n",
    "        label: \"Density f(x)\",\n",
    "        domain: [0, 0.45],\n",
    "      },\n",
    "      line: {\n",
    "        style: \"linear\",\n",
    "        dots: false,\n",
    "        strokeWidth: 3,\n",
    "      },\n",
    "      color: {\n",
    "        scheme: \"blue\",\n",
    "      },\n",
    "      grid: {\n",
    "        show: true,\n",
    "      },\n",
    "    },\n",
    "  });\n",
    "\n",
    "console.log(\"📈 Normal Distribution PDF:\");\n",
    "normalPDF;"
   ]
  },
  {
   "cell_type": "code",
   "execution_count": 3,
   "metadata": {},
   "outputs": [
    {
     "name": "stdout",
     "output_type": "stream",
     "text": [
      "📊 Normal Distribution CDF:\n"
     ]
    },
    {
     "data": {
      "application/vnd.jupyter.widget-view+json": {
       "model_id": "4b0f8d44-c850-4fec-9618-33d7a3681e94",
       "version_major": 2,
       "version_minor": 1
      }
     },
     "execution_count": 3,
     "metadata": {},
     "output_type": "execute_result"
    }
   ],
   "source": [
    "// Normal Distribution CDF (Cumulative Distribution Function)\n",
    "const normalCDF = normalCDFData\n",
    "  .pivotLonger({\n",
    "    cols: [\"probability\"],\n",
    "    namesTo: \"function_type\",\n",
    "    valuesTo: \"value\",\n",
    "  })\n",
    "  .graph({\n",
    "    type: \"line\",\n",
    "    mappings: {\n",
    "      x: \"x\",\n",
    "      y: \"value\",\n",
    "    },\n",
    "    config: {\n",
    "      layout: {\n",
    "        title: \"📊 Normal Distribution - Cumulative Distribution Function\",\n",
    "        description:\n",
    "          \"Cumulative probability P(X ≤ x) for standard normal distribution\",\n",
    "        width: 700,\n",
    "        height: 400,\n",
    "      },\n",
    "      xAxis: {\n",
    "        label: \"Value (x)\",\n",
    "        domain: [-4, 4],\n",
    "      },\n",
    "      yAxis: {\n",
    "        label: \"Cumulative Probability P(X ≤ x)\",\n",
    "        domain: [0, 1],\n",
    "      },\n",
    "      line: {\n",
    "        style: \"linear\",\n",
    "        dots: false,\n",
    "        strokeWidth: 3,\n",
    "      },\n",
    "      color: {\n",
    "        scheme: \"green\",\n",
    "      },\n",
    "      grid: {\n",
    "        show: true,\n",
    "      },\n",
    "    },\n",
    "  });\n",
    "\n",
    "console.log(\"📊 Normal Distribution CDF:\");\n",
    "normalCDF;"
   ]
  },
  {
   "cell_type": "markdown",
   "metadata": {},
   "source": [
    "## Distribution Comparison"
   ]
  },
  {
   "cell_type": "code",
   "execution_count": 49,
   "metadata": {},
   "outputs": [
    {
     "name": "stdout",
     "output_type": "stream",
     "text": [
      "📊 Distribution Comparison Data:\n",
      "┌───────┬─────────────────────┬─────────────────────┬─────────────────────────────┐\n",
      "│ (idx) │ x                   │ density             │ distribution                │\n",
      "├───────┼─────────────────────┼─────────────────────┼─────────────────────────────┤\n",
      "│     0 │ -4                  │ 0.24197072451914334 │ \"Normal (mu: -3, sigma: 1)\" │\n",
      "│     1 │ -3.919191919191919  │ 0.2614805373103322  │ \"Normal (mu: -3, sigma: 1)\" │\n",
      "│     2 │ -3.8383838383838382 │ 0.28072429063331533 │ \"Normal (mu: -3, sigma: 1)\" │\n",
      "│     3 │ -3.757575757575758  │ 0.2994226832710996  │ \"Normal (mu: -3, sigma: 1)\" │\n",
      "│     4 │ -3.676767676767677  │ 0.3172878803327466  │ \"Normal (mu: -3, sigma: 1)\" │\n",
      "│     5 │ -3.595959595959596  │ 0.33403067356112665 │ \"Normal (mu: -3, sigma: 1)\" │\n",
      "│     6 │ -3.515151515151515  │ 0.3493681383726544  │ \"Normal (mu: -3, sigma: 1)\" │\n",
      "│     7 │ -3.4343434343434343 │ 0.3630315105059062  │ \"Normal (mu: -3, sigma: 1)\" │\n",
      "│     8 │ -3.3535353535353534 │ 0.3747739794063901  │ \"Normal (mu: -3, sigma: 1)\" │\n",
      "│     9 │ -3.2727272727272725 │ 0.38437808445725896 │ \"Normal (mu: -3, sigma: 1)\" │\n",
      "└───────┴─────────────────────┴─────────────────────┴─────────────────────────────┘\n"
     ]
    }
   ],
   "source": [
    "// Generate data for multiple distributions using .data() method\n",
    "const normalDistData = s.dist.normal.data({\n",
    "  mean: -3,\n",
    "  standardDeviation: 1,\n",
    "  type: \"pdf\",\n",
    "  range: [-4, 4],\n",
    "  points: 100,\n",
    "}).mutate({\n",
    "  distribution: () => \"Normal (mu: -3, sigma: 1)\",\n",
    "});\n",
    "\n",
    "const normalDistData1 = s.dist.normal.data({\n",
    "  mean: -1,\n",
    "  standardDeviation: 1.3,\n",
    "  type: \"pdf\",\n",
    "  range: [-4, 4],\n",
    "  points: 100,\n",
    "}).mutate({\n",
    "  distribution: () => \"Normal (mu: -1, sigma: 1.3)\",\n",
    "});\n",
    "\n",
    "const normalDistData2 = s.dist.normal.data({\n",
    "  mean: 1,\n",
    "  standardDeviation: 1.8,\n",
    "  type: \"pdf\",\n",
    "  range: [-4, 4],\n",
    "  points: 100,\n",
    "}).mutate({\n",
    "  distribution: () => \"Normal (mu: 1, sigma: 1.8)\",\n",
    "});\n",
    "\n",
    "const normalDistData3 = s.dist.normal.data({\n",
    "  mean: 3,\n",
    "  standardDeviation: 3,\n",
    "  type: \"pdf\",\n",
    "  range: [-4, 4],\n",
    "  points: 100,\n",
    "}).mutate({\n",
    "  distribution: () => \"Normal (mu: 3, sigma: 3)\",\n",
    "});\n",
    "\n",
    "\n",
    "// Combine all distributions\n",
    "const distributionData = normalDistData\n",
    "  .bindRows(normalDistData1)\n",
    "  .bindRows(normalDistData2)\n",
    "  .bind(normalDistData3);\n",
    "\n",
    "console.log(\"📊 Distribution Comparison Data:\");\n",
    "console.table(distributionData.head(10));"
   ]
  },
  {
   "cell_type": "code",
   "execution_count": 50,
   "metadata": {},
   "outputs": [
    {
     "name": "stdout",
     "output_type": "stream",
     "text": [
      "📊 Distribution Comparison:\n"
     ]
    },
    {
     "data": {
      "application/vnd.jupyter.widget-view+json": {
       "model_id": "e6254fc9-8f40-468a-9226-f96248e597e3",
       "version_major": 2,
       "version_minor": 1
      }
     },
     "execution_count": 50,
     "metadata": {},
     "output_type": "execute_result"
    }
   ],
   "source": [
    "// Create comparison graph with multiple distribution lines\n",
    "const distributionComparison = distributionData.graph({\n",
    "    type: \"line\",\n",
    "    mappings: {\n",
    "      x: \"x\",\n",
    "      y: \"density\",\n",
    "      series: \"distribution\",\n",
    "    },\n",
    "    config: {\n",
    "      layout: {\n",
    "        title: \"Normal Distribution Comparison\",\n",
    "        description:\n",
    "          \"How normal distributions change as the mean and standard deviation change\",\n",
    "        width: 700,\n",
    "        height: 400,\n",
    "      },\n",
    "      xAxis: {\n",
    "        label: \"Value (x)\",\n",
    "        domain: [-4, 4],\n",
    "      },\n",
    "      yAxis: {\n",
    "        label: \"Density f(x)\",\n",
    "        domain: [0, 0.45],\n",
    "      },\n",
    "      color: {\n",
    "        scheme: \"vibrant\",\n",
    "      },\n",
    "      legend: {\n",
    "        show: true,\n",
    "        position: \"top-right\",\n",
    "      },\n",
    "      grid: {\n",
    "        show: true,\n",
    "      },\n",
    "    },\n",
    "  });\n",
    "  \n",
    "  console.log(\"📊 Distribution Comparison:\");\n",
    "  distributionComparison;"
   ]
  },
  {
   "cell_type": "code",
   "execution_count": 53,
   "metadata": {},
   "outputs": [
    {
     "name": "stdout",
     "output_type": "stream",
     "text": [
      "📊 Distribution Comparison:\n"
     ]
    },
    {
     "data": {
      "application/vnd.jupyter.widget-view+json": {
       "model_id": "5e61f21a-eebf-4f55-a851-8e29cfafccc9",
       "version_major": 2,
       "version_minor": 1
      }
     },
     "execution_count": 53,
     "metadata": {},
     "output_type": "execute_result"
    }
   ],
   "source": [
    "// Create comparison graph with multiple distribution lines\n",
    "const distributionComparison1 = distributionData.graph({\n",
    "    type: \"area\",\n",
    "    mappings: {\n",
    "      x: \"x\",\n",
    "      y: \"density\",\n",
    "      series: \"distribution\",\n",
    "    },\n",
    "    config: {\n",
    "      layout: {\n",
    "        title: \"Normal Distribution Comparison\",\n",
    "        description:\n",
    "          \"How normal distributions change as the mean and standard deviation change\",\n",
    "        width: 700,\n",
    "        height: 400,\n",
    "      },\n",
    "      xAxis: {\n",
    "        label: \"Value (x)\",\n",
    "        domain: [-4, 4],\n",
    "      },\n",
    "      yAxis: {\n",
    "        label: \"Density f(x)\",\n",
    "        domain: [0, 0.45],\n",
    "      },\n",
    "      area: {\n",
    "        style: \"linear\",\n",
    "        opacity: 0.05,\n",
    "        stacked: false\n",
    "      },\n",
    "      color: {\n",
    "        scheme: \"vibrant\",\n",
    "      },\n",
    "      legend: {\n",
    "        show: true,\n",
    "        position: \"top-right\",\n",
    "      },\n",
    "      grid: {\n",
    "        show: true,\n",
    "      },\n",
    "    },\n",
    "  });\n",
    "  \n",
    "  console.log(\"📊 Distribution Comparison:\");\n",
    "  distributionComparison1;"
   ]
  }
 ],
 "metadata": {
  "kernelspec": {
   "display_name": "Deno",
   "language": "typescript",
   "name": "deno"
  },
  "language_info": {
   "codemirror_mode": "typescript",
   "file_extension": ".ts",
   "mimetype": "text/x.typescript",
   "name": "typescript",
   "nbconvert_exporter": "script",
   "pygments_lexer": "typescript",
   "version": "5.9.2"
  }
 },
 "nbformat": 4,
 "nbformat_minor": 2
}
