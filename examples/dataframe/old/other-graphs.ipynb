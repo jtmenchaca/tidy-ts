{
 "cells": [
  {
   "cell_type": "code",
   "execution_count": 7,
   "id": "f43e52d2",
   "metadata": {},
   "outputs": [
    {
     "data": {
      "application/vnd.jupyter.widget-view+json": {
       "model_id": "d9f5b68d-0e4a-4211-b603-8147afb049ad",
       "version_major": 2,
       "version_minor": 1
      }
     },
     "execution_count": 7,
     "metadata": {},
     "output_type": "execute_result"
    }
   ],
   "source": [
    "import { createDataFrame, stats } from \"@tidy-ts/dataframe\";\n",
    "\n",
    "// Galactic fleet data - explore the Star Wars universe!\n",
    "const fleetData = createDataFrame([\n",
    "  {\n",
    "    ship: \"X-wing\",\n",
    "    speed: 1050,\n",
    "    firepower: 85,\n",
    "    cost: 149999,\n",
    "    faction: \"Rebel\",\n",
    "    crew: 1,\n",
    "  },\n",
    "  {\n",
    "    ship: \"TIE Fighter\",\n",
    "    speed: 1200,\n",
    "    firepower: 75,\n",
    "    cost: 60000,\n",
    "    faction: \"Empire\",\n",
    "    crew: 1,\n",
    "  },\n",
    "  {\n",
    "    ship: \"Millennium Falcon\",\n",
    "    speed: 1050,\n",
    "    firepower: 95,\n",
    "    cost: 100000,\n",
    "    faction: \"Rebel\",\n",
    "    crew: 2,\n",
    "  },\n",
    "  {\n",
    "    ship: \"Star Destroyer\",\n",
    "    speed: 975,\n",
    "    firepower: 200,\n",
    "    cost: 150000000,\n",
    "    faction: \"Empire\",\n",
    "    crew: 37000,\n",
    "  },\n",
    "  {\n",
    "    ship: \"A-wing\",\n",
    "    speed: 1300,\n",
    "    firepower: 80,\n",
    "    cost: 175000,\n",
    "    faction: \"Rebel\",\n",
    "    crew: 1,\n",
    "  },\n",
    "  {\n",
    "    ship: \"TIE Interceptor\",\n",
    "    speed: 1250,\n",
    "    firepower: 90,\n",
    "    cost: 120000,\n",
    "    faction: \"Empire\",\n",
    "    crew: 1,\n",
    "  },\n",
    "]);\n",
    "\n",
    "// Interactive scatter plot - hover to explore!\n",
    "const fleetComparison = fleetData.graph({\n",
    "  type: \"scatter\",\n",
    "  mappings: {\n",
    "    x: \"speed\",\n",
    "    y: \"firepower\",\n",
    "    color: \"faction\",\n",
    "  },\n",
    "  config: {\n",
    "    layout: {\n",
    "      title: \"⚔️ Galactic Fleet Analysis\",\n",
    "      description:\n",
    "        \"Interactive exploration of ship capabilities - hover for details!\",\n",
    "    },\n",
    "    xAxis: { label: \"Speed (MGLT)\", domain: [900, 1400] },\n",
    "    yAxis: { label: \"Firepower Rating\", domain: [70, 210] },\n",
    "  },\n",
    "});\n",
    "\n",
    "fleetComparison;"
   ]
  }
 ],
 "metadata": {
  "kernelspec": {
   "display_name": "Deno",
   "language": "typescript",
   "name": "deno"
  },
  "language_info": {
   "codemirror_mode": "typescript",
   "file_extension": ".ts",
   "mimetype": "text/x.typescript",
   "name": "typescript",
   "nbconvert_exporter": "script",
   "pygments_lexer": "typescript",
   "version": "5.8.3"
  }
 },
 "nbformat": 4,
 "nbformat_minor": 5
}
