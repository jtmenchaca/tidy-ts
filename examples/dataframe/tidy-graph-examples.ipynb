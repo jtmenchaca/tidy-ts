{
  "cells": [
    {
      "cell_type": "markdown",
      "metadata": {},
      "source": [
        "# Tidy Graph Examples (Deno + TypeScript)\n",
        "\n",
        "This notebook showcases the **comprehensive graph visualization capabilities**\n",
        "of the `@tidy-ts/tidy-data` library, using the Deno TypeScript Jupyter kernel.\n",
        "\n",
        "**Features Covered**\n",
        "\n",
        "- **All chart types**: scatter, line, bar, area\n",
        "- **Advanced mappings**: color, size, shape aesthetics\n",
        "- **Configuration options**: themes, styling, interactions\n",
        "- **Real-world examples**: sales data, scientific data, time series\n",
        "- **Widget integration**: interactive visualizations\n",
        "\n",
        "**Chart Types Available**\n",
        "\n",
        "- 📊 **Scatter plots** - for correlation analysis\n",
        "- 📈 **Line charts** - for trends and time series\n",
        "- 📊 **Bar charts** - for categorical comparisons\n",
        "- 📊 **Area charts** - for cumulative data"
      ]
    },
    {
      "cell_type": "markdown",
      "metadata": {},
      "source": [
        "## Imports and Setup"
      ]
    },
    {
      "cell_type": "code",
      "execution_count": 1,
      "metadata": {},
      "outputs": [
        {
          "name": "stdout",
          "output_type": "stream",
          "text": [
            "📊 Tidy Graph Examples - Ready to visualize!\n"
          ]
        }
      ],
      "source": [
        "import { createDataFrame, type DataFrame, stats } from \"@tidy-ts/dataframe\";\n",
        "\n",
        "console.log(\"📊 Tidy Graph Examples - Ready to visualize!\");"
      ]
    },
    {
      "cell_type": "markdown",
      "metadata": {},
      "source": [
        "## 1. Scatter Plots - Correlation and Distribution Analysis"
      ]
    },
    {
      "cell_type": "code",
      "execution_count": 2,
      "metadata": {},
      "outputs": [
        {
          "name": "stdout",
          "output_type": "stream",
          "text": [
            "┌───────┬───────────────┬─────────────┬──────────┬───────┬──────────┬────────────┐\n",
            "│ (idx) │ experiment_id │ temperature │ pressure │ yield │ catalyst │ batch_size │\n",
            "├───────┼───────────────┼─────────────┼──────────┼───────┼──────────┼────────────┤\n",
            "│     0 │             1 │          25 │ 1.2      │ 0.85  │ \"A\"      │         50 │\n",
            "│     1 │             2 │          30 │ 1.5      │ 0.92  │ \"A\"      │         75 │\n",
            "│     2 │             3 │          35 │ 1.8      │ 0.88  │ \"B\"      │         60 │\n",
            "│     3 │             4 │          40 │ 2.1      │ 0.95  │ \"B\"      │         80 │\n",
            "│     4 │             5 │          45 │ 2.4      │ 0.78  │ \"C\"      │         45 │\n",
            "│     5 │             6 │          50 │ 2.7      │ 0.82  │ \"C\"      │         65 │\n",
            "│     6 │             7 │          55 │ 3        │ 0.75  │ \"A\"      │         90 │\n",
            "│     7 │             8 │          28 │ 1.3      │ 0.89  │ \"B\"      │         55 │\n",
            "│     8 │             9 │          42 │ 2.2      │ 0.93  │ \"A\"      │         70 │\n",
            "│     9 │            10 │          38 │ 1.9      │ 0.91  │ \"C\"      │         85 │\n",
            "└───────┴───────────────┴─────────────┴──────────┴───────┴──────────┴────────────┘\n"
          ]
        }
      ],
      "source": [
        "// Scientific experiment data\n",
        "const experimentData = createDataFrame([\n",
        "  {\n",
        "    experiment_id: 1,\n",
        "    temperature: 25,\n",
        "    pressure: 1.2,\n",
        "    yield: 0.85,\n",
        "    catalyst: \"A\",\n",
        "    batch_size: 50,\n",
        "  },\n",
        "  {\n",
        "    experiment_id: 2,\n",
        "    temperature: 30,\n",
        "    pressure: 1.5,\n",
        "    yield: 0.92,\n",
        "    catalyst: \"A\",\n",
        "    batch_size: 75,\n",
        "  },\n",
        "  {\n",
        "    experiment_id: 3,\n",
        "    temperature: 35,\n",
        "    pressure: 1.8,\n",
        "    yield: 0.88,\n",
        "    catalyst: \"B\",\n",
        "    batch_size: 60,\n",
        "  },\n",
        "  {\n",
        "    experiment_id: 4,\n",
        "    temperature: 40,\n",
        "    pressure: 2.1,\n",
        "    yield: 0.95,\n",
        "    catalyst: \"B\",\n",
        "    batch_size: 80,\n",
        "  },\n",
        "  {\n",
        "    experiment_id: 5,\n",
        "    temperature: 45,\n",
        "    pressure: 2.4,\n",
        "    yield: 0.78,\n",
        "    catalyst: \"C\",\n",
        "    batch_size: 45,\n",
        "  },\n",
        "  {\n",
        "    experiment_id: 6,\n",
        "    temperature: 50,\n",
        "    pressure: 2.7,\n",
        "    yield: 0.82,\n",
        "    catalyst: \"C\",\n",
        "    batch_size: 65,\n",
        "  },\n",
        "  {\n",
        "    experiment_id: 7,\n",
        "    temperature: 55,\n",
        "    pressure: 3.0,\n",
        "    yield: 0.75,\n",
        "    catalyst: \"A\",\n",
        "    batch_size: 90,\n",
        "  },\n",
        "  {\n",
        "    experiment_id: 8,\n",
        "    temperature: 28,\n",
        "    pressure: 1.3,\n",
        "    yield: 0.89,\n",
        "    catalyst: \"B\",\n",
        "    batch_size: 55,\n",
        "  },\n",
        "  {\n",
        "    experiment_id: 9,\n",
        "    temperature: 42,\n",
        "    pressure: 2.2,\n",
        "    yield: 0.93,\n",
        "    catalyst: \"A\",\n",
        "    batch_size: 70,\n",
        "  },\n",
        "  {\n",
        "    experiment_id: 10,\n",
        "    temperature: 38,\n",
        "    pressure: 1.9,\n",
        "    yield: 0.91,\n",
        "    catalyst: \"C\",\n",
        "    batch_size: 85,\n",
        "  },\n",
        "]);\n",
        "\n",
        "console.table(experimentData);"
      ]
    },
    {
      "cell_type": "code",
      "execution_count": 3,
      "metadata": {},
      "outputs": [
        {
          "name": "stdout",
          "output_type": "stream",
          "text": [
            "📊 Basic Scatter Plot:\n"
          ]
        },
        {
          "data": {
            "application/vnd.jupyter.widget-view+json": {
              "model_id": "3418e14a-9bfc-41ed-9926-4f1f162d35e8",
              "version_major": 2,
              "version_minor": 1
            }
          },
          "execution_count": 3,
          "metadata": {},
          "output_type": "execute_result"
        }
      ],
      "source": [
        "// Basic scatter plot - Temperature vs Yield\n",
        "const basicScatter = experimentData\n",
        "  .graph({\n",
        "    type: \"scatter\",\n",
        "    mappings: {\n",
        "      x: \"temperature\",\n",
        "      y: \"yield\",\n",
        "    },\n",
        "    config: {\n",
        "      layout: {\n",
        "        title: \"Temperature vs Yield\",\n",
        "        description:\n",
        "          \"Basic scatter plot showing relationship between temperature and yield\",\n",
        "      },\n",
        "      xAxis: {\n",
        "        label: \"Temperature (°C)\",\n",
        "      },\n",
        "      yAxis: {\n",
        "        label: \"Yield (%)\",\n",
        "      },\n",
        "      scatter: {\n",
        "        pointSize: 80,\n",
        "        pointOpacity: 0.8,\n",
        "      },\n",
        "      grid: {\n",
        "        show: true,\n",
        "      },\n",
        "      color: {\n",
        "        scheme: \"blue\",\n",
        "      },\n",
        "    },\n",
        "  });\n",
        "\n",
        "console.log(\"📊 Basic Scatter Plot:\");\n",
        "basicScatter;"
      ]
    },
    {
      "cell_type": "code",
      "execution_count": 4,
      "metadata": {},
      "outputs": [
        {
          "name": "stdout",
          "output_type": "stream",
          "text": [
            "🎨 Advanced Scatter Plot with Multiple Aesthetics:\n"
          ]
        },
        {
          "data": {
            "application/vnd.jupyter.widget-view+json": {
              "model_id": "1ea1e6fd-30ad-46fd-8dbf-a7c0aa7d0780",
              "version_major": 2,
              "version_minor": 1
            }
          },
          "execution_count": 4,
          "metadata": {},
          "output_type": "execute_result"
        }
      ],
      "source": [
        "// Advanced scatter plot - Multiple aesthetics\n",
        "const advancedScatter = experimentData.graph({\n",
        "  type: \"scatter\",\n",
        "  mappings: {\n",
        "    x: \"temperature\",\n",
        "    y: \"yield\",\n",
        "    color: \"catalyst\", // Color by catalyst type\n",
        "    size: \"batch_size\", // Size by batch size\n",
        "  },\n",
        "  config: {\n",
        "    layout: {\n",
        "      title: \"Multi-Dimensional Experiment Analysis\",\n",
        "      description:\n",
        "        \"Temperature vs Yield, colored by catalyst, sized by batch size\",\n",
        "    },\n",
        "    xAxis: {\n",
        "      label: \"Temperature (°C)\",\n",
        "    },\n",
        "    yAxis: {\n",
        "      label: \"Yield (%)\",\n",
        "    },\n",
        "    color: {\n",
        "      scheme: \"oklch_vibrant\",\n",
        "    },\n",
        "    legend: {\n",
        "      show: true,\n",
        "      position: \"right\",\n",
        "    },\n",
        "    tooltip: {\n",
        "      show: true,\n",
        "    },\n",
        "    interactivity: {\n",
        "      zoom: true,\n",
        "      pan: true,\n",
        "    },\n",
        "  },\n",
        "  tooltip: {\n",
        "    fields: [\"experiment_id\", \"temperature\", \"yield\", \"catalyst\", \"batch_size\"],\n",
        "  },\n",
        "});\n",
        "\n",
        "console.log(\"🎨 Advanced Scatter Plot with Multiple Aesthetics:\");\n",
        "advancedScatter;"
      ]
    },
    {
      "cell_type": "markdown",
      "metadata": {},
      "source": [
        "## 2. Line Charts - Trends and Time Series"
      ]
    },
    {
      "cell_type": "code",
      "execution_count": 5,
      "metadata": {},
      "outputs": [
        {
          "name": "stdout",
          "output_type": "stream",
          "text": [
            "💰 Sales data loaded:\n",
            "┌───────┬───────┬─────────┬────────┬─────────┬─────────┐\n",
            "│ (idx) │ month │ desktop │ mobile │ quarter │ region  │\n",
            "├───────┼───────┼─────────┼────────┼─────────┼─────────┤\n",
            "│     0 │ \"Jan\" │     186 │     80 │ \"Q1\"    │ \"North\" │\n",
            "│     1 │ \"Feb\" │     305 │    200 │ \"Q1\"    │ \"North\" │\n",
            "│     2 │ \"Mar\" │     237 │    120 │ \"Q1\"    │ \"North\" │\n",
            "│     3 │ \"Apr\" │     173 │    190 │ \"Q2\"    │ \"North\" │\n",
            "│     4 │ \"May\" │     209 │    130 │ \"Q2\"    │ \"North\" │\n",
            "│     5 │ \"Jun\" │     214 │    140 │ \"Q2\"    │ \"North\" │\n",
            "│     6 │ \"Jul\" │     156 │    160 │ \"Q3\"    │ \"South\" │\n",
            "│     7 │ \"Aug\" │     267 │    180 │ \"Q3\"    │ \"South\" │\n",
            "│     8 │ \"Sep\" │     289 │    220 │ \"Q3\"    │ \"South\" │\n",
            "│     9 │ \"Oct\" │     198 │    250 │ \"Q4\"    │ \"South\" │\n",
            "│    10 │ \"Nov\" │     245 │    280 │ \"Q4\"    │ \"South\" │\n",
            "│    11 │ \"Dec\" │     321 │    310 │ \"Q4\"    │ \"South\" │\n",
            "└───────┴───────┴─────────┴────────┴─────────┴─────────┘\n"
          ]
        }
      ],
      "source": [
        "// Sales trend data\n",
        "const salesData = createDataFrame([\n",
        "  { month: \"Jan\", desktop: 186, mobile: 80, quarter: \"Q1\", region: \"North\" },\n",
        "  { month: \"Feb\", desktop: 305, mobile: 200, quarter: \"Q1\", region: \"North\" },\n",
        "  { month: \"Mar\", desktop: 237, mobile: 120, quarter: \"Q1\", region: \"North\" },\n",
        "  { month: \"Apr\", desktop: 173, mobile: 190, quarter: \"Q2\", region: \"North\" },\n",
        "  { month: \"May\", desktop: 209, mobile: 130, quarter: \"Q2\", region: \"North\" },\n",
        "  { month: \"Jun\", desktop: 214, mobile: 140, quarter: \"Q2\", region: \"North\" },\n",
        "  { month: \"Jul\", desktop: 156, mobile: 160, quarter: \"Q3\", region: \"South\" },\n",
        "  { month: \"Aug\", desktop: 267, mobile: 180, quarter: \"Q3\", region: \"South\" },\n",
        "  { month: \"Sep\", desktop: 289, mobile: 220, quarter: \"Q3\", region: \"South\" },\n",
        "  { month: \"Oct\", desktop: 198, mobile: 250, quarter: \"Q4\", region: \"South\" },\n",
        "  { month: \"Nov\", desktop: 245, mobile: 280, quarter: \"Q4\", region: \"South\" },\n",
        "  { month: \"Dec\", desktop: 321, mobile: 310, quarter: \"Q4\", region: \"South\" },\n",
        "]);\n",
        "\n",
        "console.log(\"💰 Sales data loaded:\");\n",
        "console.table(salesData);"
      ]
    },
    {
      "cell_type": "code",
      "execution_count": 6,
      "metadata": {},
      "outputs": [
        {
          "name": "stdout",
          "output_type": "stream",
          "text": [
            "📈 Basic Line Chart:\n"
          ]
        },
        {
          "data": {
            "application/vnd.jupyter.widget-view+json": {
              "model_id": "4cd484ca-c2fd-477d-a325-57f5a04e1a8a",
              "version_major": 2,
              "version_minor": 1
            }
          },
          "execution_count": 6,
          "metadata": {},
          "output_type": "execute_result"
        }
      ],
      "source": [
        "// Basic line chart - Desktop users trend\n",
        "const basicLine = salesData\n",
        "  .graph({\n",
        "    type: \"line\",\n",
        "    mappings: {\n",
        "      x: \"month\",\n",
        "      y: \"desktop\",\n",
        "    },\n",
        "    config: {\n",
        "      layout: {\n",
        "        title: \"Desktop Users Trend\",\n",
        "        description: \"Monthly desktop user acquisition\",\n",
        "        width: 650,\n",
        "        height: 400,\n",
        "      },\n",
        "      xAxis: {\n",
        "        label: \"Month\",\n",
        "      },\n",
        "      yAxis: {\n",
        "        label: \"Desktop Users\",\n",
        "      },\n",
        "      line: {\n",
        "        style: \"monotone\",\n",
        "        dots: true,\n",
        "        strokeWidth: 3,\n",
        "      },\n",
        "      color: {\n",
        "        scheme: \"purple\",\n",
        "      },\n",
        "      grid: {\n",
        "        horizontal: true,\n",
        "        vertical: false,\n",
        "      },\n",
        "    },\n",
        "  });\n",
        "\n",
        "console.log(\"📈 Basic Line Chart:\");\n",
        "basicLine;"
      ]
    },
    {
      "cell_type": "code",
      "execution_count": 9,
      "metadata": {},
      "outputs": [
        {
          "name": "stdout",
          "output_type": "stream",
          "text": [
            "📊 Multi-Series Line Chart:\n"
          ]
        }
      ],
      "source": [
        "// Multi-series line chart - Desktop vs Mobile\n",
        "const multiSeriesData = salesData\n",
        "  .pivotLonger({\n",
        "    cols: [\"desktop\", \"mobile\"],\n",
        "    namesTo: \"device_type\",\n",
        "    valuesTo: \"users\",\n",
        "  });\n",
        "\n",
        "const multiSeriesLine = multiSeriesData\n",
        "  .graph({\n",
        "    type: \"line\",\n",
        "    mappings: {\n",
        "      x: \"month\",\n",
        "      y: \"users\",\n",
        "      series: \"device_type\",\n",
        "    },\n",
        "    config: {\n",
        "      layout: {\n",
        "        title: \"Desktop vs Mobile Users Trend\",\n",
        "        description: \"Comparing user acquisition across device types\",\n",
        "        width: 650,\n",
        "        height: 400,\n",
        "      },\n",
        "      xAxis: {\n",
        "        label: \"Month\",\n",
        "      },\n",
        "      yAxis: {\n",
        "        label: \"Users\",\n",
        "      },\n",
        "      line: {\n",
        "        style: \"linear\",\n",
        "        dots: true,\n",
        "        strokeWidth: 2,\n",
        "      },\n",
        "      color: {\n",
        "        scheme: \"green\",\n",
        "      },\n",
        "      legend: {\n",
        "        show: true,\n",
        "        position: \"top\",\n",
        "      },\n",
        "      grid: {\n",
        "        show: true,\n",
        "      },\n",
        "    },\n",
        "  });\n",
        "\n",
        "console.log(\"📊 Multi-Series Line Chart:\");\n",
        "await multiSeriesLine.savePNG({ filename: \"multi-series-line-chart.png\" });\n",
        "await multiSeriesLine.saveSVG({ filename: \"multi-series-line-chart.svg\" });"
      ]
    },
    {
      "cell_type": "markdown",
      "metadata": {},
      "source": [
        "## 3. Bar Charts - Categorical Comparisons"
      ]
    },
    {
      "cell_type": "code",
      "execution_count": 11,
      "metadata": {},
      "outputs": [
        {
          "name": "stdout",
          "output_type": "stream",
          "text": [
            "📊 Quarterly Summary:\n",
            "┌─────────┬───────────────┬──────────────┬─────────────┬────────────┐\n",
            "│ quarter │ total_desktop │ total_mobile │ avg_desktop │ avg_mobile │\n",
            "├─────────┼───────────────┼──────────────┼─────────────┼────────────┤\n",
            "│ Q1      │ 728           │ 400          │ 243         │ 133        │\n",
            "│ Q2      │ 596           │ 460          │ 199         │ 153        │\n",
            "│ Q3      │ 712           │ 560          │ 237         │ 187        │\n",
            "│ Q4      │ 764           │ 840          │ 255         │ 280        │\n",
            "└─────────┴───────────────┴──────────────┴─────────────┴────────────┘\n"
          ]
        }
      ],
      "source": [
        "// Quarterly summary data\n",
        "\n",
        "// Sales trend data\n",
        "const salesData1 = createDataFrame([\n",
        "  { month: \"Jan\", desktop: 186, mobile: 80, quarter: \"Q1\", region: \"North\" },\n",
        "  { month: \"Feb\", desktop: 305, mobile: 200, quarter: \"Q1\", region: \"North\" },\n",
        "  { month: \"Mar\", desktop: 237, mobile: 120, quarter: \"Q1\", region: \"North\" },\n",
        "  { month: \"Apr\", desktop: 173, mobile: 190, quarter: \"Q2\", region: \"North\" },\n",
        "  { month: \"May\", desktop: 209, mobile: 130, quarter: \"Q2\", region: \"North\" },\n",
        "  { month: \"Jun\", desktop: 214, mobile: 140, quarter: \"Q2\", region: \"North\" },\n",
        "  { month: \"Jul\", desktop: 156, mobile: 160, quarter: \"Q3\", region: \"South\" },\n",
        "  { month: \"Aug\", desktop: 267, mobile: 180, quarter: \"Q3\", region: \"South\" },\n",
        "  { month: \"Sep\", desktop: 289, mobile: 220, quarter: \"Q3\", region: \"South\" },\n",
        "  { month: \"Oct\", desktop: 198, mobile: 250, quarter: \"Q4\", region: \"South\" },\n",
        "  { month: \"Nov\", desktop: 245, mobile: 280, quarter: \"Q4\", region: \"South\" },\n",
        "  { month: \"Dec\", desktop: 321, mobile: 310, quarter: \"Q4\", region: \"South\" },\n",
        "]);\n",
        "\n",
        "const quarterlySummary = salesData1\n",
        "  .groupBy(\"quarter\")\n",
        "  .summarize({\n",
        "    total_desktop: (g) => stats.sum(g.desktop),\n",
        "    total_mobile: (g) => stats.sum(g.mobile),\n",
        "    avg_desktop: (g) => Math.round(stats.mean(g.desktop)),\n",
        "    avg_mobile: (g) => Math.round(stats.mean(g.mobile)),\n",
        "  });\n",
        "\n",
        "console.log(\"📊 Quarterly Summary:\");\n",
        "const quarterlySummary1 = quarterlySummary.print();"
      ]
    },
    {
      "cell_type": "code",
      "execution_count": 12,
      "metadata": {},
      "outputs": [
        {
          "name": "stdout",
          "output_type": "stream",
          "text": [
            "📊 Basic Bar Chart:\n"
          ]
        },
        {
          "data": {
            "application/vnd.jupyter.widget-view+json": {
              "model_id": "4a9ad71b-af10-4d7c-ba7d-32ecddebd977",
              "version_major": 2,
              "version_minor": 1
            }
          },
          "execution_count": 12,
          "metadata": {},
          "output_type": "execute_result"
        }
      ],
      "source": [
        "// Basic bar chart - Total desktop users by quarter\n",
        "const basicBar = quarterlySummary\n",
        "  .graph({\n",
        "    type: \"bar\",\n",
        "    mappings: {\n",
        "      x: \"quarter\",\n",
        "      y: \"total_desktop\",\n",
        "    },\n",
        "    config: {\n",
        "      layout: {\n",
        "        title: \"Desktop Users by Quarter\",\n",
        "        description: \"Total desktop user acquisition per quarter\",\n",
        "      },\n",
        "      xAxis: {\n",
        "        label: \"Quarter\",\n",
        "      },\n",
        "      yAxis: {\n",
        "        label: \"Total Desktop Users\",\n",
        "      },\n",
        "      bar: {\n",
        "        radius: 8,\n",
        "      },\n",
        "      color: {\n",
        "        scheme: \"blue\",\n",
        "      },\n",
        "      grid: {\n",
        "        show: true,\n",
        "        horizontal: true,\n",
        "        vertical: false,\n",
        "      },\n",
        "    },\n",
        "  });\n",
        "\n",
        "console.log(\"📊 Basic Bar Chart:\");\n",
        "basicBar;"
      ]
    },
    {
      "cell_type": "code",
      "execution_count": 14,
      "metadata": {},
      "outputs": [
        {
          "name": "stdout",
          "output_type": "stream",
          "text": [
            "📊 Grouped Bar Chart:\n"
          ]
        },
        {
          "data": {
            "application/vnd.jupyter.widget-view+json": {
              "model_id": "87cdb730-35da-49a7-92a1-67f5ec80a934",
              "version_major": 2,
              "version_minor": 1
            }
          },
          "execution_count": 14,
          "metadata": {},
          "output_type": "execute_result"
        }
      ],
      "source": [
        "// Grouped bar chart - Desktop vs Mobile by quarter\n",
        "const groupedData = quarterlySummary\n",
        "  .pivotLonger({\n",
        "    cols: [\"total_desktop\", \"total_mobile\"],\n",
        "    namesTo: \"device_type\",\n",
        "    valuesTo: \"total_users\",\n",
        "  })\n",
        "  .mutate({\n",
        "    device_type: (r) => r.device_type.replace(\"total_\", \"\"),\n",
        "  });\n",
        "\n",
        "const groupedBar = groupedData.graph({\n",
        "  type: \"bar\",\n",
        "  mappings: {\n",
        "    x: \"quarter\",\n",
        "    y: \"total_users\",\n",
        "    series: \"device_type\",\n",
        "  },\n",
        "  config: {\n",
        "    layout: {\n",
        "      title: \"Desktop vs Mobile Users by Quarter (Grouped)\",\n",
        "      description: \"Comparing total users across device types per quarter\",\n",
        "    },\n",
        "    xAxis: {\n",
        "      label: \"Quarter\",\n",
        "    },\n",
        "    yAxis: {\n",
        "      label: \"Total Users\",\n",
        "    },\n",
        "    bar: {\n",
        "      radius: 6,\n",
        "      stacked: false,\n",
        "    },\n",
        "    legend: {\n",
        "      show: true,\n",
        "      position: \"top\",\n",
        "    },\n",
        "    grid: {\n",
        "      show: true,\n",
        "    },\n",
        "  },\n",
        "});\n",
        "\n",
        "console.log(\"📊 Grouped Bar Chart:\");\n",
        "groupedBar;"
      ]
    },
    {
      "cell_type": "code",
      "execution_count": null,
      "metadata": {},
      "outputs": [
        {
          "name": "stdout",
          "output_type": "stream",
          "text": [
            "📊 Stacked Bar Chart:\n"
          ]
        },
        {
          "data": {
            "application/vnd.jupyter.widget-view+json": {
              "model_id": "ef986449-c114-4ca8-8bac-340d335768c5",
              "version_major": 2,
              "version_minor": 1
            }
          },
          "execution_count": 32,
          "metadata": {},
          "output_type": "execute_result"
        }
      ],
      "source": [
        "// Stacked bar chart - Combined totals by quarter\n",
        "const stackedBar = groupedData\n",
        "  .graph({\n",
        "    type: \"bar\",\n",
        "    mappings: {\n",
        "      x: \"quarter\",\n",
        "      y: \"total_users\",\n",
        "      series: \"device_type\",\n",
        "    },\n",
        "    config: {\n",
        "      layout: {\n",
        "        title: \"Desktop vs Mobile Users by Quarter (Stacked)\",\n",
        "        description: \"Total combined users with breakdown by device type\",\n",
        "      },\n",
        "      bar: {\n",
        "        radius: 8,\n",
        "        stacked: true,\n",
        "      },\n",
        "      legend: {\n",
        "        show: true,\n",
        "        position: \"right\",\n",
        "      },\n",
        "      grid: {\n",
        "        show: true,\n",
        "      },\n",
        "    },\n",
        "  });\n",
        "\n",
        "console.log(\"📊 Stacked Bar Chart:\");\n",
        "stackedBar;"
      ]
    },
    {
      "cell_type": "markdown",
      "metadata": {},
      "source": [
        "## 4. Area Charts - Cumulative and Stacked Data"
      ]
    },
    {
      "cell_type": "code",
      "execution_count": 23,
      "metadata": {},
      "outputs": [
        {
          "name": "stdout",
          "output_type": "stream",
          "text": [
            "🌐 Traffic source data loaded:\n",
            "┌───────┬───────┬─────────┬──────┬────────┬────────┐\n",
            "│ (idx) │ month │ organic │ paid │ social │ direct │\n",
            "├───────┼───────┼─────────┼──────┼────────┼────────┤\n",
            "│     0 │ \"Jan\" │     120 │   80 │     45 │     30 │\n",
            "│     1 │ \"Feb\" │     150 │   95 │     52 │     35 │\n",
            "│     2 │ \"Mar\" │     180 │  110 │     48 │     40 │\n",
            "│     3 │ \"Apr\" │     210 │  125 │     61 │     45 │\n",
            "│     4 │ \"May\" │     240 │  140 │     55 │     50 │\n",
            "│     5 │ \"Jun\" │     280 │  160 │     67 │     55 │\n",
            "└───────┴───────┴─────────┴──────┴────────┴────────┘\n"
          ]
        }
      ],
      "source": [
        "// Traffic source data (cumulative over time)\n",
        "type TrafficData = {\n",
        "  month: string;\n",
        "  organic: number;\n",
        "  paid: number;\n",
        "  social: number;\n",
        "  direct: number;\n",
        "};\n",
        "\n",
        "const trafficData: DataFrame<TrafficData> = createDataFrame([\n",
        "  { month: \"Jan\", organic: 120, paid: 80, social: 45, direct: 30 },\n",
        "  { month: \"Feb\", organic: 150, paid: 95, social: 52, direct: 35 },\n",
        "  { month: \"Mar\", organic: 180, paid: 110, social: 48, direct: 40 },\n",
        "  { month: \"Apr\", organic: 210, paid: 125, social: 61, direct: 45 },\n",
        "  { month: \"May\", organic: 240, paid: 140, social: 55, direct: 50 },\n",
        "  { month: \"Jun\", organic: 280, paid: 160, social: 67, direct: 55 },\n",
        "]);\n",
        "\n",
        "console.log(\"🌐 Traffic source data loaded:\");\n",
        "console.table(trafficData);"
      ]
    },
    {
      "cell_type": "code",
      "execution_count": 24,
      "metadata": {},
      "outputs": [
        {
          "name": "stdout",
          "output_type": "stream",
          "text": [
            "📊 Basic Area Chart:\n"
          ]
        },
        {
          "data": {
            "application/vnd.jupyter.widget-view+json": {
              "model_id": "60fad27d-6653-4dd2-84b1-6f3b88acb94d",
              "version_major": 2,
              "version_minor": 1
            }
          },
          "execution_count": 24,
          "metadata": {},
          "output_type": "execute_result"
        }
      ],
      "source": [
        "// Basic area chart - Organic traffic trend\n",
        "const basicArea = trafficData.graph({\n",
        "  type: \"area\",\n",
        "  mappings: {\n",
        "    x: \"month\",\n",
        "    y: \"organic\",\n",
        "  },\n",
        "  config: {\n",
        "    layout: {\n",
        "      title: \"Organic Traffic Growth\",\n",
        "      description: \"Monthly organic traffic acquisition\",\n",
        "    },\n",
        "    xAxis: {\n",
        "      label: \"Month\",\n",
        "    },\n",
        "    yAxis: {\n",
        "      label: \"Organic Traffic\",\n",
        "    },\n",
        "    area: {\n",
        "      style: \"linear\",\n",
        "      strokeWidth: 2,\n",
        "    },\n",
        "    color: {\n",
        "      scheme: \"green\",\n",
        "    },\n",
        "    grid: {\n",
        "      show: true,\n",
        "    },\n",
        "  },\n",
        "});\n",
        "\n",
        "console.log(\"📊 Basic Area Chart:\");\n",
        "basicArea;"
      ]
    },
    {
      "cell_type": "code",
      "execution_count": 26,
      "metadata": {},
      "outputs": [
        {
          "name": "stdout",
          "output_type": "stream",
          "text": [
            "📊 Stacked Area Chart:\n"
          ]
        },
        {
          "data": {
            "application/vnd.jupyter.widget-view+json": {
              "model_id": "9dd12993-eb06-429b-9b40-af1d897d39d3",
              "version_major": 2,
              "version_minor": 1
            }
          },
          "execution_count": 26,
          "metadata": {},
          "output_type": "execute_result"
        }
      ],
      "source": [
        "// Stacked area chart - All traffic sources\n",
        "const stackedAreaData = trafficData\n",
        "  .pivotLonger({\n",
        "    cols: [\"organic\", \"paid\", \"social\", \"direct\"],\n",
        "    namesTo: \"traffic_source\",\n",
        "    valuesTo: \"visitors\",\n",
        "  });\n",
        "\n",
        "const stackedArea = stackedAreaData\n",
        "  .graph({\n",
        "    type: \"area\",\n",
        "    mappings: {\n",
        "      x: \"month\",\n",
        "      y: \"visitors\",\n",
        "      series: \"traffic_source\",\n",
        "    },\n",
        "    config: {\n",
        "      layout: {\n",
        "        title: \"Traffic Sources Over Time (Stacked Area)\",\n",
        "        description: \"Cumulative view of all traffic acquisition channels\",\n",
        "      },\n",
        "      xAxis: {\n",
        "        label: \"Month\",\n",
        "      },\n",
        "      yAxis: {\n",
        "        label: \"Number of Visitors\",\n",
        "      },\n",
        "      area: {\n",
        "        style: \"monotone\",\n",
        "        strokeWidth: 1,\n",
        "      },\n",
        "      color: {\n",
        "        scheme: \"oklch_professional\",\n",
        "      },\n",
        "      legend: {\n",
        "        show: true,\n",
        "        position: \"top\",\n",
        "      },\n",
        "      grid: {\n",
        "        show: true,\n",
        "      },\n",
        "      tooltip: {\n",
        "        show: true,\n",
        "      },\n",
        "    },\n",
        "    tooltip: {\n",
        "      fields: [\"month\", \"traffic_source\", \"visitors\"],\n",
        "    },\n",
        "  });\n",
        "\n",
        "console.log(\"📊 Stacked Area Chart:\");\n",
        "stackedArea;"
      ]
    },
    {
      "cell_type": "markdown",
      "metadata": {},
      "source": [
        "## 5. Advanced Configuration Examples"
      ]
    },
    {
      "cell_type": "code",
      "execution_count": 27,
      "metadata": {},
      "outputs": [
        {
          "name": "stdout",
          "output_type": "stream",
          "text": [
            "🎨 Custom Styled Chart:\n"
          ]
        },
        {
          "data": {
            "application/vnd.jupyter.widget-view+json": {
              "model_id": "6d7509b5-86ae-4e1f-af96-2dd205a34526",
              "version_major": 2,
              "version_minor": 1
            }
          },
          "execution_count": 27,
          "metadata": {},
          "output_type": "execute_result"
        }
      ],
      "source": [
        "// Custom color schemes and styling\n",
        "const customStyledChart = experimentData.graph({\n",
        "  type: \"scatter\",\n",
        "  mappings: {\n",
        "    x: \"pressure\",\n",
        "    y: \"yield\",\n",
        "    color: \"catalyst\",\n",
        "  },\n",
        "  config: {\n",
        "    layout: {\n",
        "      title: \"Custom Styled Scientific Analysis\",\n",
        "      description:\n",
        "        \"Pressure vs Yield with custom accessibility-friendly colors\",\n",
        "    },\n",
        "    xAxis: {\n",
        "      label: \"Pressure (bar)\",\n",
        "      domain: [1.0, 3.5],\n",
        "    },\n",
        "    yAxis: {\n",
        "      label: \"Yield (%)\",\n",
        "      domain: [0.7, 1.0],\n",
        "    },\n",
        "    scatter: {\n",
        "      pointSize: 120,\n",
        "      pointOpacity: 0.75,\n",
        "    },\n",
        "    grid: {\n",
        "      show: true,\n",
        "    },\n",
        "\n",
        "    // Legend and tooltips\n",
        "    legend: {\n",
        "      show: true,\n",
        "      position: \"bottom-right\",\n",
        "    },\n",
        "    tooltip: {\n",
        "      show: true,\n",
        "    },\n",
        "    interactivity: {\n",
        "      zoom: true,\n",
        "      pan: true,\n",
        "    },\n",
        "  },\n",
        "});\n",
        "\n",
        "console.log(\"🎨 Custom Styled Chart:\");\n",
        "customStyledChart;"
      ]
    },
    {
      "cell_type": "code",
      "execution_count": 28,
      "metadata": {},
      "outputs": [
        {
          "name": "stdout",
          "output_type": "stream",
          "text": [
            "✨ Minimal Design Chart:\n"
          ]
        },
        {
          "data": {
            "application/vnd.jupyter.widget-view+json": {
              "model_id": "3453cc9b-26e8-451b-b547-2c5997df3710",
              "version_major": 2,
              "version_minor": 1
            }
          },
          "execution_count": 28,
          "metadata": {},
          "output_type": "execute_result"
        }
      ],
      "source": [
        "// Chart with hidden axes and minimal styling\n",
        "const minimalChart = salesData.graph({\n",
        "  type: \"line\",\n",
        "  mappings: {\n",
        "    x: \"month\",\n",
        "    y: \"mobile\",\n",
        "  },\n",
        "  config: {\n",
        "    layout: {\n",
        "      title: \"Mobile Users - Minimal Design\",\n",
        "    },\n",
        "    xAxis: {\n",
        "      hide: true,\n",
        "    },\n",
        "    yAxis: {\n",
        "      hide: true,\n",
        "    },\n",
        "    // Minimal styling\n",
        "    grid: {\n",
        "      show: false,\n",
        "    },\n",
        "    legend: {\n",
        "      show: false,\n",
        "    },\n",
        "    line: {\n",
        "      style: \"basis\",\n",
        "      dots: false,\n",
        "      strokeWidth: 4,\n",
        "    },\n",
        "    color: {\n",
        "      scheme: \"oklch_vibrant\",\n",
        "    },\n",
        "  },\n",
        "});\n",
        "\n",
        "console.log(\"✨ Minimal Design Chart:\");\n",
        "minimalChart;"
      ]
    },
    {
      "cell_type": "markdown",
      "metadata": {},
      "source": [
        "## 6. Real-World Dashboard Example"
      ]
    },
    {
      "cell_type": "code",
      "execution_count": null,
      "metadata": {},
      "outputs": [
        {
          "name": "stdout",
          "output_type": "stream",
          "text": [
            "📊 Business Analytics Dashboard\n",
            "=================================\n",
            "\n",
            "KPI Overview:\n"
          ]
        },
        {
          "data": {
            "application/vnd.jupyter.widget-view+json": {
              "model_id": "52fd9050-6b3f-418e-be1b-cb3ded562003",
              "version_major": 2,
              "version_minor": 1
            }
          },
          "execution_count": 38,
          "metadata": {},
          "output_type": "execute_result"
        }
      ],
      "source": [
        "// THIS ISN'T WORKING CORRECTLY\n",
        "// Create a comprehensive business dashboard\n",
        "console.log(\"📊 Business Analytics Dashboard\");\n",
        "console.log(\"=================================\\n\");\n",
        "\n",
        "// 1. KPI Overview (Bar Chart)\n",
        "const kpiData = createDataFrame([\n",
        "  { metric: \"Revenue\", value: 125000, target: 120000 },\n",
        "  { metric: \"Users\", value: 8500, target: 9000 },\n",
        "  { metric: \"Conversion\", value: 3.2, target: 3.5 },\n",
        "  { metric: \"Retention\", value: 68, target: 70 },\n",
        "]);\n",
        "\n",
        "const kpiChart = kpiData\n",
        "  .graph({\n",
        "    type: \"bar\",\n",
        "    mappings: {\n",
        "      x: \"metric\",\n",
        "      y: \"value\",\n",
        "    },\n",
        "    config: {\n",
        "      layout: {\n",
        "        title: \"📈 Key Performance Indicators\",\n",
        "        description: \"Current performance vs targets\",\n",
        "      },\n",
        "      bar: {\n",
        "        radius: 10,\n",
        "      },\n",
        "      color: {\n",
        "        scheme: \"blue\",\n",
        "      },\n",
        "      grid: {\n",
        "        show: true,\n",
        "      },\n",
        "    },\n",
        "    tooltip: {\n",
        "      fields: [\"metric\", \"value\", \"target\"],\n",
        "    },\n",
        "  });\n",
        "\n",
        "console.log(\"KPI Overview:\");\n",
        "kpiChart;"
      ]
    },
    {
      "cell_type": "code",
      "execution_count": null,
      "metadata": {},
      "outputs": [
        {
          "name": "stdout",
          "output_type": "stream",
          "text": [
            "\n",
            "User Engagement Analysis:\n"
          ]
        },
        {
          "data": {
            "application/vnd.jupyter.widget-view+json": {
              "model_id": "194ddef3-2f58-448d-8fb2-89d415d03bc1",
              "version_major": 2,
              "version_minor": 1
            }
          },
          "execution_count": 39,
          "metadata": {},
          "output_type": "execute_result"
        }
      ],
      "source": [
        "// 2. User Engagement Analysis (Scatter Plot)\n",
        "const engagementData = createDataFrame([\n",
        "  { session_duration: 5.2, page_views: 8, user_type: \"new\", bounce_rate: 0.65 },\n",
        "  {\n",
        "    session_duration: 12.1,\n",
        "    page_views: 15,\n",
        "    user_type: \"returning\",\n",
        "    bounce_rate: 0.23,\n",
        "  },\n",
        "  { session_duration: 3.8, page_views: 4, user_type: \"new\", bounce_rate: 0.78 },\n",
        "  {\n",
        "    session_duration: 18.5,\n",
        "    page_views: 22,\n",
        "    user_type: \"premium\",\n",
        "    bounce_rate: 0.12,\n",
        "  },\n",
        "  {\n",
        "    session_duration: 7.3,\n",
        "    page_views: 11,\n",
        "    user_type: \"returning\",\n",
        "    bounce_rate: 0.34,\n",
        "  },\n",
        "  {\n",
        "    session_duration: 25.2,\n",
        "    page_views: 35,\n",
        "    user_type: \"premium\",\n",
        "    bounce_rate: 0.08,\n",
        "  },\n",
        "  { session_duration: 4.1, page_views: 6, user_type: \"new\", bounce_rate: 0.72 },\n",
        "  {\n",
        "    session_duration: 15.8,\n",
        "    page_views: 19,\n",
        "    user_type: \"returning\",\n",
        "    bounce_rate: 0.19,\n",
        "  },\n",
        "  {\n",
        "    session_duration: 30.1,\n",
        "    page_views: 42,\n",
        "    user_type: \"premium\",\n",
        "    bounce_rate: 0.05,\n",
        "  },\n",
        "  { session_duration: 2.9, page_views: 3, user_type: \"new\", bounce_rate: 0.85 },\n",
        "]);\n",
        "\n",
        "const engagementChart = engagementData.graph({\n",
        "  type: \"scatter\",\n",
        "  mappings: {\n",
        "    x: \"session_duration\",\n",
        "    y: \"page_views\",\n",
        "    color: \"user_type\",\n",
        "    size: (row) => (1 - row.bounce_rate) * 100, // Larger points = lower bounce rate\n",
        "  },\n",
        "  config: {\n",
        "    layout: {\n",
        "      title: \"👥 User Engagement Analysis\",\n",
        "      description:\n",
        "        \"Session duration vs page views, colored by user type, sized by engagement (1-bounce rate)\",\n",
        "    },\n",
        "    xAxis: {\n",
        "      label: \"Session Duration (minutes)\",\n",
        "    },\n",
        "    yAxis: {\n",
        "      label: \"Page Views\",\n",
        "    },\n",
        "    scatter: {\n",
        "      pointSize: 120,\n",
        "      pointOpacity: 0.75,\n",
        "    },\n",
        "    color: {\n",
        "      scheme: \"oklch_accessible\",\n",
        "    },\n",
        "    legend: {\n",
        "      show: true,\n",
        "      position: \"top-right\",\n",
        "    },\n",
        "    grid: {\n",
        "      show: true,\n",
        "    },\n",
        "    tooltip: {\n",
        "      show: true,\n",
        "    },\n",
        "  },\n",
        "});\n",
        "\n",
        "console.log(\"\\nUser Engagement Analysis:\");\n",
        "engagementChart;"
      ]
    },
    {
      "cell_type": "code",
      "execution_count": null,
      "metadata": {},
      "outputs": [
        {
          "name": "stdout",
          "output_type": "stream",
          "text": [
            "\n",
            "Revenue Trends:\n"
          ]
        },
        {
          "data": {
            "application/vnd.jupyter.widget-view+json": {
              "model_id": "041ad009-37bc-44c9-96eb-6ea33fa9c7f0",
              "version_major": 2,
              "version_minor": 1
            }
          },
          "execution_count": 40,
          "metadata": {},
          "output_type": "execute_result"
        }
      ],
      "source": [
        "// 3. Revenue Trend (Area Chart)\n",
        "const revenueData = createDataFrame([\n",
        "  { week: \"W1\", subscriptions: 15000, ads: 8000, marketplace: 5000 },\n",
        "  { week: \"W2\", subscriptions: 18000, ads: 9200, marketplace: 6100 },\n",
        "  { week: \"W3\", subscriptions: 22000, ads: 10500, marketplace: 7200 },\n",
        "  { week: \"W4\", subscriptions: 25000, ads: 11800, marketplace: 8500 },\n",
        "  { week: \"W5\", subscriptions: 28000, ads: 13200, marketplace: 9800 },\n",
        "  { week: \"W6\", subscriptions: 32000, ads: 14500, marketplace: 11200 },\n",
        "]).pivotLonger({\n",
        "  cols: [\"subscriptions\", \"ads\", \"marketplace\"],\n",
        "  names_to: \"revenue_stream\",\n",
        "  values_to: \"amount\",\n",
        "});\n",
        "\n",
        "const revenueChart = revenueData.graph({\n",
        "  type: \"area\",\n",
        "  mappings: {\n",
        "    x: \"week\",\n",
        "    y: \"amount\",\n",
        "    series: \"revenue_stream\",\n",
        "  },\n",
        "  config: {\n",
        "    layout: {\n",
        "      title: \"💰 Revenue Streams Over Time\",\n",
        "      description: \"Weekly revenue breakdown by stream\",\n",
        "    },\n",
        "    xAxis: {\n",
        "      label: \"Week\",\n",
        "    },\n",
        "    yAxis: {\n",
        "      label: \"Revenue ($)\",\n",
        "    },\n",
        "    area: {\n",
        "      style: \"linear\",\n",
        "      strokeWidth: 2,\n",
        "    },\n",
        "    color: {\n",
        "      scheme: \"green\",\n",
        "    },\n",
        "    grid: {\n",
        "      show: true,\n",
        "    },\n",
        "    legend: {\n",
        "      show: true,\n",
        "      position: \"top\",\n",
        "    },\n",
        "  },\n",
        "  tooltip: {\n",
        "    fields: [\"week\", \"revenue_stream\", \"amount\"],\n",
        "  },\n",
        "});\n",
        "\n",
        "console.log(\"\\nRevenue Trends:\");\n",
        "revenueChart;"
      ]
    },
    {
      "cell_type": "markdown",
      "metadata": {},
      "source": [
        "## 7. All Available Color Schemes"
      ]
    },
    {
      "cell_type": "code",
      "execution_count": null,
      "metadata": {},
      "outputs": [
        {
          "name": "stdout",
          "output_type": "stream",
          "text": [
            "🎨 Available Color Schemes:\n",
            "============================\n",
            "\n",
            "default:\n",
            "blue:\n",
            "green:\n",
            "red:\n",
            "purple:\n",
            "orange:\n",
            "oklch_vibrant:\n",
            "oklch_professional:\n",
            "oklch_accessible:\n"
          ]
        },
        {
          "data": {
            "application/vnd.jupyter.widget-view+json": {
              "model_id": "6a4218c8-8fbc-46e1-80e6-5f5d00dafa5c",
              "version_major": 2,
              "version_minor": 1
            }
          },
          "execution_count": 41,
          "metadata": {},
          "output_type": "execute_result"
        }
      ],
      "source": [
        "// Demonstrate all available color schemes\n",
        "const colorSchemeData = createDataFrame([\n",
        "  { category: \"A\", value: 10 },\n",
        "  { category: \"B\", value: 15 },\n",
        "  { category: \"C\", value: 12 },\n",
        "  { category: \"D\", value: 18 },\n",
        "  { category: \"E\", value: 8 },\n",
        "]);\n",
        "\n",
        "const colorSchemes = [\n",
        "  \"default\",\n",
        "  \"blue\",\n",
        "  \"green\",\n",
        "  \"red\",\n",
        "  \"purple\",\n",
        "  \"orange\",\n",
        "  \"oklch_vibrant\",\n",
        "  \"oklch_professional\",\n",
        "  \"oklch_accessible\",\n",
        "] as const;\n",
        "\n",
        "console.log(\"🎨 Available Color Schemes:\");\n",
        "console.log(\"============================\\n\");\n",
        "\n",
        "for (const scheme of colorSchemes) {\n",
        "  const chart = colorSchemeData.graph({\n",
        "    type: \"bar\",\n",
        "    mappings: {\n",
        "      x: \"category\",\n",
        "      y: \"value\",\n",
        "      color: \"category\",\n",
        "    },\n",
        "    config: {\n",
        "      layout: {\n",
        "        title: `Color Scheme: ${scheme}`,\n",
        "      },\n",
        "      color: {\n",
        "        scheme: scheme,\n",
        "      },\n",
        "      bar: {\n",
        "        radius: 6,\n",
        "      },\n",
        "      legend: {\n",
        "        show: false,\n",
        "      },\n",
        "    },\n",
        "  });\n",
        "\n",
        "  console.log(`${scheme}:`);\n",
        "  chart;\n",
        "}"
      ]
    },
    {
      "cell_type": "markdown",
      "metadata": {},
      "source": [
        "## 8. Chart Export and Interactivity"
      ]
    },
    {
      "cell_type": "code",
      "execution_count": null,
      "metadata": {},
      "outputs": [
        {
          "name": "stdout",
          "output_type": "stream",
          "text": [
            "📤 Chart Export Options:\n",
            "========================\n",
            "\n",
            "\n",
            "4. Interactive Widget:\n"
          ]
        },
        {
          "data": {
            "application/vnd.jupyter.widget-view+json": {
              "model_id": "5c608632-35e5-4862-88fd-34f56f952750",
              "version_major": 2,
              "version_minor": 1
            }
          },
          "execution_count": 42,
          "metadata": {},
          "output_type": "execute_result"
        }
      ],
      "source": [
        "// Demonstrate different output formats\n",
        "const exportExample = salesData\n",
        "  .graph({\n",
        "    type: \"line\",\n",
        "    mappings: {\n",
        "      x: \"month\",\n",
        "      y: \"desktop\",\n",
        "    },\n",
        "    config: {\n",
        "      layout: {\n",
        "        title: \"Export Example Chart\",\n",
        "        description: \"Demonstrating different output formats\",\n",
        "      },\n",
        "      color: {\n",
        "        scheme: \"blue\",\n",
        "      },\n",
        "    },\n",
        "  });\n",
        "\n",
        "console.log(\"📤 Chart Export Options:\");\n",
        "console.log(\"========================\\n\");\n",
        "\n",
        "// 4. Interactive widget (main display method)\n",
        "console.log(\"\\n4. Interactive Widget:\");\n",
        "exportExample;"
      ]
    }
  ],
  "metadata": {
    "kernelspec": {
      "display_name": "Deno",
      "language": "typescript",
      "name": "deno"
    },
    "language_info": {
      "codemirror_mode": "typescript",
      "file_extension": ".ts",
      "mimetype": "text/x.typescript",
      "name": "typescript",
      "nbconvert_exporter": "script",
      "pygments_lexer": "typescript",
      "version": "5.9.2"
    }
  },
  "nbformat": 4,
  "nbformat_minor": 2
}
